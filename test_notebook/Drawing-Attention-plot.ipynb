{
 "cells": [
  {
   "cell_type": "code",
   "execution_count": null,
   "id": "2b9e8bd0",
   "metadata": {},
   "outputs": [],
   "source": [
    "from draw import draw_attention"
   ]
  },
  {
   "cell_type": "code",
   "execution_count": null,
   "id": "c5e34292",
   "metadata": {},
   "outputs": [],
   "source": [
    "import infos"
   ]
  },
  {
   "cell_type": "code",
   "execution_count": null,
   "id": "15b33b3e",
   "metadata": {
    "scrolled": true
   },
   "outputs": [],
   "source": [
    "config = infos.config_16\n",
    "target = 16\n",
    "similar_wk = 1\n",
    "model_path = infos.model_path_16\n",
    "\n",
    "model = draw_attention(config=config, target=target, similar_wk=similar_wk, model_path=model_path, save_path='wk16.pdf')"
   ]
  },
  {
   "cell_type": "code",
   "execution_count": null,
   "id": "66d40d29",
   "metadata": {
    "scrolled": false
   },
   "outputs": [],
   "source": [
    "config = infos.config_17\n",
    "target = 17\n",
    "similar_wk = 6\n",
    "model_path = infos.model_path_17\n",
    "\n",
    "model = draw_attention(config=config, target=target, similar_wk=similar_wk, model_path=model_path, save_path='wk17.pdf')"
   ]
  },
  {
   "cell_type": "code",
   "execution_count": null,
   "id": "3ddf7f92",
   "metadata": {},
   "outputs": [],
   "source": [
    "config = infos.config_18\n",
    "target = 18\n",
    "similar_wk = 14\n",
    "model_path = infos.model_path_18\n",
    "\n",
    "model = draw_attention(config=config, target=target, similar_wk=similar_wk, model_path=model_path, save_path='wk18.pdf')"
   ]
  }
 ],
 "metadata": {
  "kernelspec": {
   "display_name": "[py3.7]",
   "language": "python",
   "name": "py3.7"
  },
  "language_info": {
   "codemirror_mode": {
    "name": "ipython",
    "version": 3
   },
   "file_extension": ".py",
   "mimetype": "text/x-python",
   "name": "python",
   "nbconvert_exporter": "python",
   "pygments_lexer": "ipython3",
   "version": "3.7.11"
  }
 },
 "nbformat": 4,
 "nbformat_minor": 5
}
