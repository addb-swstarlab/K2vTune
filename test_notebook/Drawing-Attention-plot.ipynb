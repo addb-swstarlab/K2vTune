{
 "cells": [
  {
   "cell_type": "code",
   "execution_count": 1,
   "id": "f2eba568",
   "metadata": {},
   "outputs": [],
   "source": [
    "import torch\n",
    "import sys\n",
    "import pandas as pd\n",
    "import numpy as np\n",
    "from sklearn.model_selection import train_test_split\n",
    "from sklearn.preprocessing import StandardScaler\n",
    "import matplotlib.pyplot as plt\n",
    "sys.path.append('../')\n",
    "from models.network import *\n",
    "from models.utils import *"
   ]
  },
  {
   "cell_type": "code",
   "execution_count": 2,
   "id": "7e71e16c",
   "metadata": {
    "scrolled": false
   },
   "outputs": [],
   "source": [
    "config = '-max_background_compactions=13 -max_background_flushes=1 -write_buffer_size=2003968 -max_write_buffer_number=8 -min_write_buffer_number_to_merge=2 -compaction_pri=3 -compaction_style=0 -level0_file_num_compaction_trigger=8 -level0_slowdown_writes_trigger=31 -level0_stop_writes_trigger=48 -compression_type=lz4 -bloom_locality=0 -open_files=100000 -block_size=2048 -cache_index_and_filter_blocks=0 -max_bytes_for_level_base=5242880 -max_bytes_for_level_multiplier=8 -target_file_size_base=1394688 -target_file_size_multiplier=2 -num_levels=7 -memtable_bloom_size_ratio=0 -compression_ratio=0'\n",
    "compression_type = {'snappy':0, 'zlib':1, 'lz4':2, 'none':3}\n",
    "splt_config = config.split(' ')\n",
    "column = []\n",
    "data = []\n",
    "# for cfg in splt_config:\n",
    "#     c, v = cfg.split('=')\n",
    "#     if c == '-compression_type':\n",
    "#         conf.append(compression_type[v])\n",
    "#     else:\n",
    "#         conf.append(int(v))\n",
    "#     break\n",
    "for cfg in splt_config:\n",
    "    c, v = cfg.split('=')\n",
    "    column.append(c[1:])\n",
    "    if c == '-compression_type':\n",
    "        data.append(compression_type[v])\n",
    "    else:\n",
    "        data.append(int(v))"
   ]
  },
  {
   "cell_type": "code",
   "execution_count": 3,
   "id": "619ca0ba",
   "metadata": {},
   "outputs": [
    {
     "data": {
      "text/html": [
       "<div>\n",
       "<style scoped>\n",
       "    .dataframe tbody tr th:only-of-type {\n",
       "        vertical-align: middle;\n",
       "    }\n",
       "\n",
       "    .dataframe tbody tr th {\n",
       "        vertical-align: top;\n",
       "    }\n",
       "\n",
       "    .dataframe thead th {\n",
       "        text-align: right;\n",
       "    }\n",
       "</style>\n",
       "<table border=\"1\" class=\"dataframe\">\n",
       "  <thead>\n",
       "    <tr style=\"text-align: right;\">\n",
       "      <th></th>\n",
       "      <th>max_background_compactions</th>\n",
       "      <th>max_background_flushes</th>\n",
       "      <th>write_buffer_size</th>\n",
       "      <th>max_write_buffer_number</th>\n",
       "      <th>min_write_buffer_number_to_merge</th>\n",
       "      <th>compaction_pri</th>\n",
       "      <th>compaction_style</th>\n",
       "      <th>level0_file_num_compaction_trigger</th>\n",
       "      <th>level0_slowdown_writes_trigger</th>\n",
       "      <th>level0_stop_writes_trigger</th>\n",
       "      <th>...</th>\n",
       "      <th>open_files</th>\n",
       "      <th>block_size</th>\n",
       "      <th>cache_index_and_filter_blocks</th>\n",
       "      <th>max_bytes_for_level_base</th>\n",
       "      <th>max_bytes_for_level_multiplier</th>\n",
       "      <th>target_file_size_base</th>\n",
       "      <th>target_file_size_multiplier</th>\n",
       "      <th>num_levels</th>\n",
       "      <th>memtable_bloom_size_ratio</th>\n",
       "      <th>compression_ratio</th>\n",
       "    </tr>\n",
       "  </thead>\n",
       "  <tbody>\n",
       "    <tr>\n",
       "      <th>0</th>\n",
       "      <td>13</td>\n",
       "      <td>1</td>\n",
       "      <td>2003968</td>\n",
       "      <td>8</td>\n",
       "      <td>2</td>\n",
       "      <td>3</td>\n",
       "      <td>0</td>\n",
       "      <td>8</td>\n",
       "      <td>31</td>\n",
       "      <td>48</td>\n",
       "      <td>...</td>\n",
       "      <td>100000</td>\n",
       "      <td>2048</td>\n",
       "      <td>0</td>\n",
       "      <td>5242880</td>\n",
       "      <td>8</td>\n",
       "      <td>1394688</td>\n",
       "      <td>2</td>\n",
       "      <td>7</td>\n",
       "      <td>0</td>\n",
       "      <td>0</td>\n",
       "    </tr>\n",
       "  </tbody>\n",
       "</table>\n",
       "<p>1 rows × 22 columns</p>\n",
       "</div>"
      ],
      "text/plain": [
       "   max_background_compactions  max_background_flushes  write_buffer_size  \\\n",
       "0                          13                       1            2003968   \n",
       "\n",
       "   max_write_buffer_number  min_write_buffer_number_to_merge  compaction_pri  \\\n",
       "0                        8                                 2               3   \n",
       "\n",
       "   compaction_style  level0_file_num_compaction_trigger  \\\n",
       "0                 0                                   8   \n",
       "\n",
       "   level0_slowdown_writes_trigger  level0_stop_writes_trigger  ...  \\\n",
       "0                              31                          48  ...   \n",
       "\n",
       "   open_files  block_size  cache_index_and_filter_blocks  \\\n",
       "0      100000        2048                              0   \n",
       "\n",
       "   max_bytes_for_level_base  max_bytes_for_level_multiplier  \\\n",
       "0                   5242880                               8   \n",
       "\n",
       "   target_file_size_base  target_file_size_multiplier  num_levels  \\\n",
       "0                1394688                            2           7   \n",
       "\n",
       "   memtable_bloom_size_ratio  compression_ratio  \n",
       "0                          0                  0  \n",
       "\n",
       "[1 rows x 22 columns]"
      ]
     },
     "execution_count": 3,
     "metadata": {},
     "output_type": "execute_result"
    }
   ],
   "source": [
    "config = pd.DataFrame(data=data, index=column).T\n",
    "config"
   ]
  },
  {
   "cell_type": "code",
   "execution_count": 4,
   "id": "42878a76",
   "metadata": {},
   "outputs": [],
   "source": [
    "target = 17\n",
    "hidden_size = 128\n",
    "tf = False\n",
    "batch_size = 32\n",
    "similar_wk = 6"
   ]
  },
  {
   "cell_type": "code",
   "execution_count": 5,
   "id": "f6f464b3",
   "metadata": {},
   "outputs": [],
   "source": [
    "KNOB_PATH = '../data/rocksdb_conf'\n",
    "EXTERNAL_PATH = '../data/external'\n",
    "INTERNAL_PATH = '../data/internal'\n",
    "WK_NUM = 16\n",
    "\n",
    "raw_knobs = rocksdb_knobs_make_dict(KNOB_PATH)\n",
    "raw_knobs = pd.DataFrame(data=raw_knobs['data'].astype(np.float32), columns=raw_knobs['columnlabels'])\n",
    "\n",
    "internal_dict = {}\n",
    "external_dict = {}\n",
    "\n",
    "pruned_im = pd.read_csv(os.path.join(INTERNAL_PATH, 'internal_ensemble_pruned_tmp.csv'), index_col=0)\n",
    "for wk in range(WK_NUM):\n",
    "    im = pd.read_csv(os.path.join(INTERNAL_PATH, f'internal_results_{wk}.csv'), index_col=0)\n",
    "    internal_dict[wk] = im[pruned_im.columns]\n",
    "if target > 15:\n",
    "    im = pd.read_csv(f'../data/target_workload/{target}/internal_results_11.csv', index_col=0)\n",
    "    internal_dict[wk+1] = im[pruned_im.columns]\n",
    "\n",
    "for wk in range(WK_NUM):\n",
    "    ex = pd.read_csv(os.path.join(EXTERNAL_PATH, f'external_results_{wk}.csv'), index_col=0)\n",
    "    external_dict[wk] = ex\n",
    "if target > 15:\n",
    "    ex = pd.read_csv(f'../data/target_workload/{target}/external_results_11.csv', index_col=0)\n",
    "    external_dict[wk+1] = ex"
   ]
  },
  {
   "cell_type": "code",
   "execution_count": 6,
   "id": "ccc75076",
   "metadata": {},
   "outputs": [],
   "source": [
    "em_tr, em_te = train_test_split(external_dict[similar_wk], test_size=0.2, random_state=22)\n",
    "scaler_em = StandardScaler().fit(em_tr)"
   ]
  },
  {
   "cell_type": "code",
   "execution_count": 7,
   "id": "b223cf6d",
   "metadata": {},
   "outputs": [],
   "source": [
    "def get_index_value(raw_knobs):\n",
    "    index_value = dict()\n",
    "    for col in raw_knobs.columns:\n",
    "        iv = raw_knobs[[col]].value_counts()#.reset_index(level=0).drop(columns=0)\n",
    "        iv = iv.sort_index()\n",
    "        index_value[col] = pd.Series(data=range(len(iv)), index=iv.index)\n",
    "    return index_value"
   ]
  },
  {
   "cell_type": "code",
   "execution_count": 8,
   "id": "de467034",
   "metadata": {},
   "outputs": [],
   "source": [
    "def make_knobsOneHot(index_value, k, raw_knobs):\n",
    "        knobs_one_hot = torch.Tensor()\n",
    "        for i in range(len(k)):   \n",
    "            sample = torch.Tensor()\n",
    "            for col in raw_knobs.columns:\n",
    "                knob_one_hot = torch.zeros(len(index_value[col]))\n",
    "                knob_one_hot[index_value[col][k[col][i]]] = 1\n",
    "                sample = torch.cat((sample, knob_one_hot))\n",
    "            sample = sample.unsqueeze(0)\n",
    "            knobs_one_hot = torch.cat((knobs_one_hot, sample))\n",
    "        return np.array(knobs_one_hot)"
   ]
  },
  {
   "cell_type": "code",
   "execution_count": 9,
   "id": "06b8c27e",
   "metadata": {},
   "outputs": [],
   "source": [
    "def get_knob2vec(data, table):\n",
    "    k2vec = np.zeros((data.shape[0], 22, table.shape[1]))\n",
    "    for i in range(data.shape[0]):\n",
    "#         idx = (data[i]==1).nonzero().squeeze().cpu().detach().numpy()\n",
    "        idx = (data[i]==1).nonzero().squeeze().cpu().detach().numpy()\n",
    "        k2vec[i] = table[idx]\n",
    "    return k2vec"
   ]
  },
  {
   "cell_type": "code",
   "execution_count": 10,
   "id": "fda1aca5",
   "metadata": {},
   "outputs": [
    {
     "name": "stderr",
     "output_type": "stream",
     "text": [
      "/home/jieun/anaconda3/envs/py3.7/lib/python3.7/site-packages/ipykernel_launcher.py:5: UserWarning: This overload of nonzero is deprecated:\n",
      "\tnonzero()\n",
      "Consider using one of the following signatures instead:\n",
      "\tnonzero(*, bool as_tuple) (Triggered internally at  /opt/conda/conda-bld/pytorch_1603729047590/work/torch/csrc/utils/python_arg_parser.cpp:882.)\n",
      "  \"\"\"\n"
     ]
    }
   ],
   "source": [
    "index_value = get_index_value(raw_knobs)\n",
    "conf_one_hot = make_knobsOneHot(index_value, config, raw_knobs)\n",
    "table = np.load(f'../data/lookuptable/{similar_wk}/LookupTable.npy')\n",
    "conf_knob2vec = get_knob2vec(torch.Tensor(conf_one_hot), table)\n",
    "conf_knob2vec = torch.Tensor(conf_knob2vec).cuda()"
   ]
  },
  {
   "cell_type": "code",
   "execution_count": 11,
   "id": "2b523465",
   "metadata": {},
   "outputs": [],
   "source": [
    "encoder = EncoderRNN(input_dim=1024, hidden_dim=hidden_size)\n",
    "decoder = AttnDecoderRNN(input_dim=1, hidden_dim=hidden_size, output_dim=1)\n",
    "model = GRUNet(encoder=encoder, decoder=decoder, tf=tf, batch_size=batch_size).cuda()"
   ]
  },
  {
   "cell_type": "code",
   "execution_count": 12,
   "id": "7886796d",
   "metadata": {},
   "outputs": [],
   "source": [
    "model = torch.load('../model_save/20210923/model-20210923-05.pt')"
   ]
  },
  {
   "cell_type": "code",
   "execution_count": 13,
   "id": "95b7d0bd",
   "metadata": {},
   "outputs": [],
   "source": [
    "model.tf = False\n",
    "model.batch_size = 1"
   ]
  },
  {
   "cell_type": "code",
   "execution_count": 14,
   "id": "856dfe2f",
   "metadata": {},
   "outputs": [
    {
     "data": {
      "text/plain": [
       "torch.Size([1, 22, 1024])"
      ]
     },
     "execution_count": 14,
     "metadata": {},
     "output_type": "execute_result"
    }
   ],
   "source": [
    "conf_knob2vec.shape"
   ]
  },
  {
   "cell_type": "code",
   "execution_count": 15,
   "id": "a0b6465b",
   "metadata": {},
   "outputs": [],
   "source": [
    "output, attn_w = model(conf_knob2vec)"
   ]
  },
  {
   "cell_type": "code",
   "execution_count": 16,
   "id": "77dda8c2",
   "metadata": {},
   "outputs": [
    {
     "data": {
      "text/plain": [
       "array([[ 3.39, 99.49,  5.94, 24.18]], dtype=float32)"
      ]
     },
     "execution_count": 16,
     "metadata": {},
     "output_type": "execute_result"
    }
   ],
   "source": [
    "np.round(scaler_em.inverse_transform(output.cpu().detach().numpy()),2 )"
   ]
  },
  {
   "cell_type": "code",
   "execution_count": 20,
   "id": "b66d2f4a",
   "metadata": {},
   "outputs": [],
   "source": [
    "attn_w = attn_w.squeeze()\n",
    "attn_w = attn_w.cpu().detach().numpy()"
   ]
  },
  {
   "cell_type": "code",
   "execution_count": 44,
   "id": "d78b8205",
   "metadata": {},
   "outputs": [],
   "source": [
    "import matplotlib.ticker as ticker"
   ]
  },
  {
   "cell_type": "code",
   "execution_count": 75,
   "id": "c62d8e51",
   "metadata": {},
   "outputs": [
    {
     "data": {
      "text/plain": [
       "Index(['TIME', 'RATE', 'WAF', 'SA'], dtype='object')"
      ]
     },
     "execution_count": 75,
     "metadata": {},
     "output_type": "execute_result"
    }
   ],
   "source": [
    "external_dict[0].columns"
   ]
  },
  {
   "cell_type": "code",
   "execution_count": 77,
   "id": "6beeb67f",
   "metadata": {},
   "outputs": [
    {
     "data": {
      "image/png": "[encoded data removed]",
      "text/plain": [
       "<Figure size 720x720 with 2 Axes>"
      ]
     },
     "metadata": {
      "needs_background": "light"
     },
     "output_type": "display_data"
    }
   ],
   "source": [
    "fig = plt.figure(figsize=(10, 10))\n",
    "ax = plt.gca()\n",
    "\n",
    "im = ax.matshow(attn_w, interpolation='none')\n",
    "fig.colorbar(im)\n",
    "\n",
    "fontdict = {'fontsize': 14}\n",
    "\n",
    "ax.set_xticks(np.arange(4))\n",
    "ax.set_xticklabels(external_dict[0].columns, fontdict=fontdict, rotation=90)\n",
    "ax.set_yticks(np.arange(22))\n",
    "ax.set_yticklabels(raw_knobs.columns, fontdict=fontdict)\n",
    "\n",
    "ax.xaxis.set_major_locator(ticker.MultipleLocator(1))\n",
    "ax.yaxis.set_major_locator(ticker.MultipleLocator(1))\n",
    "\n",
    "plt.show()"
   ]
  }
 ],
 "metadata": {
  "kernelspec": {
   "display_name": "[py3.7]",
   "language": "python",
   "name": "py3.7"
  },
  "language_info": {
   "codemirror_mode": {
    "name": "ipython",
    "version": 3
   },
   "file_extension": ".py",
   "mimetype": "text/x-python",
   "name": "python",
   "nbconvert_exporter": "python",
   "pygments_lexer": "ipython3",
   "version": "3.7.11"
  }
 },
 "nbformat": 4,
 "nbformat_minor": 5
}
