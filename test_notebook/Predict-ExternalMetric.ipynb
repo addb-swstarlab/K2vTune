{
 "cells": [
  {
   "cell_type": "code",
   "execution_count": 1,
   "id": "497a5903",
   "metadata": {},
   "outputs": [],
   "source": [
    "import pandas as pd\n",
    "import numpy as np\n",
    "import os, sys\n",
    "import torch\n",
    "import json\n",
    "sys.path.append('../')\n",
    "from models.utils import rocksdb_knobs_make_dict"
   ]
  },
  {
   "cell_type": "code",
   "execution_count": 2,
   "id": "1a34fcc6",
   "metadata": {},
   "outputs": [],
   "source": [
    "PATH_internal = \"../data/internal\"\n",
    "PATH_external = \"../data/external\"\n",
    "PATH_knobs = \"../data/rocksdb_conf\"\n",
    "wk_len = 16"
   ]
  },
  {
   "cell_type": "code",
   "execution_count": 3,
   "id": "d3c05bc4",
   "metadata": {},
   "outputs": [
    {
     "data": {
      "text/html": [
       "<div>\n",
       "<style scoped>\n",
       "    .dataframe tbody tr th:only-of-type {\n",
       "        vertical-align: middle;\n",
       "    }\n",
       "\n",
       "    .dataframe tbody tr th {\n",
       "        vertical-align: top;\n",
       "    }\n",
       "\n",
       "    .dataframe thead th {\n",
       "        text-align: right;\n",
       "    }\n",
       "</style>\n",
       "<table border=\"1\" class=\"dataframe\">\n",
       "  <thead>\n",
       "    <tr style=\"text-align: right;\">\n",
       "      <th></th>\n",
       "      <th>max_background_compactions</th>\n",
       "      <th>max_background_flushes</th>\n",
       "      <th>write_buffer_size</th>\n",
       "      <th>max_write_buffer_number</th>\n",
       "      <th>min_write_buffer_number_to_merge</th>\n",
       "      <th>compaction_pri</th>\n",
       "      <th>compaction_style</th>\n",
       "      <th>level0_file_num_compaction_trigger</th>\n",
       "      <th>level0_slowdown_writes_trigger</th>\n",
       "      <th>level0_stop_writes_trigger</th>\n",
       "      <th>...</th>\n",
       "      <th>open_files</th>\n",
       "      <th>block_size</th>\n",
       "      <th>cache_index_and_filter_blocks</th>\n",
       "      <th>max_bytes_for_level_base</th>\n",
       "      <th>max_bytes_for_level_multiplier</th>\n",
       "      <th>target_file_size_base</th>\n",
       "      <th>target_file_size_multiplier</th>\n",
       "      <th>num_levels</th>\n",
       "      <th>memtable_bloom_size_ratio</th>\n",
       "      <th>compression_ratio</th>\n",
       "    </tr>\n",
       "  </thead>\n",
       "  <tbody>\n",
       "    <tr>\n",
       "      <th>0</th>\n",
       "      <td>6.0</td>\n",
       "      <td>16.0</td>\n",
       "      <td>1304576.0</td>\n",
       "      <td>3.0</td>\n",
       "      <td>2.0</td>\n",
       "      <td>1.0</td>\n",
       "      <td>0.0</td>\n",
       "      <td>3.0</td>\n",
       "      <td>24.0</td>\n",
       "      <td>44.0</td>\n",
       "      <td>...</td>\n",
       "      <td>10000.0</td>\n",
       "      <td>9216.0</td>\n",
       "      <td>0.0</td>\n",
       "      <td>5242880.0</td>\n",
       "      <td>11.0</td>\n",
       "      <td>1800192.0</td>\n",
       "      <td>1.0</td>\n",
       "      <td>8.0</td>\n",
       "      <td>0.10</td>\n",
       "      <td>0.67</td>\n",
       "    </tr>\n",
       "    <tr>\n",
       "      <th>1</th>\n",
       "      <td>2.0</td>\n",
       "      <td>14.0</td>\n",
       "      <td>911360.0</td>\n",
       "      <td>6.0</td>\n",
       "      <td>2.0</td>\n",
       "      <td>0.0</td>\n",
       "      <td>0.0</td>\n",
       "      <td>7.0</td>\n",
       "      <td>18.0</td>\n",
       "      <td>55.0</td>\n",
       "      <td>...</td>\n",
       "      <td>100000.0</td>\n",
       "      <td>15360.0</td>\n",
       "      <td>1.0</td>\n",
       "      <td>3145728.0</td>\n",
       "      <td>10.0</td>\n",
       "      <td>1729536.0</td>\n",
       "      <td>1.0</td>\n",
       "      <td>5.0</td>\n",
       "      <td>0.15</td>\n",
       "      <td>0.50</td>\n",
       "    </tr>\n",
       "    <tr>\n",
       "      <th>2</th>\n",
       "      <td>8.0</td>\n",
       "      <td>6.0</td>\n",
       "      <td>1474560.0</td>\n",
       "      <td>6.0</td>\n",
       "      <td>1.0</td>\n",
       "      <td>2.0</td>\n",
       "      <td>0.0</td>\n",
       "      <td>5.0</td>\n",
       "      <td>18.0</td>\n",
       "      <td>48.0</td>\n",
       "      <td>...</td>\n",
       "      <td>1000000.0</td>\n",
       "      <td>6144.0</td>\n",
       "      <td>0.0</td>\n",
       "      <td>4194304.0</td>\n",
       "      <td>9.0</td>\n",
       "      <td>1429504.0</td>\n",
       "      <td>1.0</td>\n",
       "      <td>6.0</td>\n",
       "      <td>0.05</td>\n",
       "      <td>0.36</td>\n",
       "    </tr>\n",
       "    <tr>\n",
       "      <th>3</th>\n",
       "      <td>12.0</td>\n",
       "      <td>8.0</td>\n",
       "      <td>550912.0</td>\n",
       "      <td>7.0</td>\n",
       "      <td>1.0</td>\n",
       "      <td>3.0</td>\n",
       "      <td>0.0</td>\n",
       "      <td>4.0</td>\n",
       "      <td>18.0</td>\n",
       "      <td>35.0</td>\n",
       "      <td>...</td>\n",
       "      <td>10000.0</td>\n",
       "      <td>3072.0</td>\n",
       "      <td>1.0</td>\n",
       "      <td>2097152.0</td>\n",
       "      <td>11.0</td>\n",
       "      <td>900096.0</td>\n",
       "      <td>1.0</td>\n",
       "      <td>7.0</td>\n",
       "      <td>0.05</td>\n",
       "      <td>0.63</td>\n",
       "    </tr>\n",
       "  </tbody>\n",
       "</table>\n",
       "<p>4 rows × 22 columns</p>\n",
       "</div>"
      ],
      "text/plain": [
       "   max_background_compactions  max_background_flushes  write_buffer_size  \\\n",
       "0                         6.0                    16.0          1304576.0   \n",
       "1                         2.0                    14.0           911360.0   \n",
       "2                         8.0                     6.0          1474560.0   \n",
       "3                        12.0                     8.0           550912.0   \n",
       "\n",
       "   max_write_buffer_number  min_write_buffer_number_to_merge  compaction_pri  \\\n",
       "0                      3.0                               2.0             1.0   \n",
       "1                      6.0                               2.0             0.0   \n",
       "2                      6.0                               1.0             2.0   \n",
       "3                      7.0                               1.0             3.0   \n",
       "\n",
       "   compaction_style  level0_file_num_compaction_trigger  \\\n",
       "0               0.0                                 3.0   \n",
       "1               0.0                                 7.0   \n",
       "2               0.0                                 5.0   \n",
       "3               0.0                                 4.0   \n",
       "\n",
       "   level0_slowdown_writes_trigger  level0_stop_writes_trigger  ...  \\\n",
       "0                            24.0                        44.0  ...   \n",
       "1                            18.0                        55.0  ...   \n",
       "2                            18.0                        48.0  ...   \n",
       "3                            18.0                        35.0  ...   \n",
       "\n",
       "   open_files  block_size  cache_index_and_filter_blocks  \\\n",
       "0     10000.0      9216.0                            0.0   \n",
       "1    100000.0     15360.0                            1.0   \n",
       "2   1000000.0      6144.0                            0.0   \n",
       "3     10000.0      3072.0                            1.0   \n",
       "\n",
       "   max_bytes_for_level_base  max_bytes_for_level_multiplier  \\\n",
       "0                 5242880.0                            11.0   \n",
       "1                 3145728.0                            10.0   \n",
       "2                 4194304.0                             9.0   \n",
       "3                 2097152.0                            11.0   \n",
       "\n",
       "   target_file_size_base  target_file_size_multiplier  num_levels  \\\n",
       "0              1800192.0                          1.0         8.0   \n",
       "1              1729536.0                          1.0         5.0   \n",
       "2              1429504.0                          1.0         6.0   \n",
       "3               900096.0                          1.0         7.0   \n",
       "\n",
       "   memtable_bloom_size_ratio  compression_ratio  \n",
       "0                       0.10               0.67  \n",
       "1                       0.15               0.50  \n",
       "2                       0.05               0.36  \n",
       "3                       0.05               0.63  \n",
       "\n",
       "[4 rows x 22 columns]"
      ]
     },
     "execution_count": 3,
     "metadata": {},
     "output_type": "execute_result"
    }
   ],
   "source": [
    "knobs = rocksdb_knobs_make_dict(PATH_knobs)\n",
    "knobs = pd.DataFrame(data=knobs['data'].astype(np.float32), columns=knobs['columnlabels'])\n",
    "columns = knobs.columns\n",
    "knobs.head(4)"
   ]
  },
  {
   "cell_type": "code",
   "execution_count": 4,
   "id": "d362eecc",
   "metadata": {},
   "outputs": [
    {
     "data": {
      "text/html": [
       "<div>\n",
       "<style scoped>\n",
       "    .dataframe tbody tr th:only-of-type {\n",
       "        vertical-align: middle;\n",
       "    }\n",
       "\n",
       "    .dataframe tbody tr th {\n",
       "        vertical-align: top;\n",
       "    }\n",
       "\n",
       "    .dataframe thead th {\n",
       "        text-align: right;\n",
       "    }\n",
       "</style>\n",
       "<table border=\"1\" class=\"dataframe\">\n",
       "  <thead>\n",
       "    <tr style=\"text-align: right;\">\n",
       "      <th></th>\n",
       "      <th>rocksdb.block.cache.miss COUNT</th>\n",
       "      <th>rocksdb.block.cache.hit COUNT</th>\n",
       "      <th>rocksdb.block.cache.add COUNT</th>\n",
       "      <th>rocksdb.block.cache.index.miss COUNT</th>\n",
       "      <th>rocksdb.block.cache.index.hit COUNT</th>\n",
       "      <th>rocksdb.block.cache.index.add COUNT</th>\n",
       "      <th>rocksdb.block.cache.index.bytes.insert COUNT</th>\n",
       "      <th>rocksdb.block.cache.data.miss COUNT</th>\n",
       "      <th>rocksdb.block.cache.data.hit COUNT</th>\n",
       "      <th>rocksdb.block.cache.data.add COUNT</th>\n",
       "      <th>...</th>\n",
       "      <th>rocksdb.bytes.decompressed_P99</th>\n",
       "      <th>rocksdb.bytes.decompressed_P100</th>\n",
       "      <th>rocksdb.bytes.decompressed_COUNT</th>\n",
       "      <th>rocksdb.bytes.decompressed_SUM</th>\n",
       "      <th>rocksdb.db.flush.micros_P50</th>\n",
       "      <th>rocksdb.db.flush.micros_P95</th>\n",
       "      <th>rocksdb.db.flush.micros_P99</th>\n",
       "      <th>rocksdb.db.flush.micros_P100</th>\n",
       "      <th>rocksdb.db.flush.micros_COUNT</th>\n",
       "      <th>rocksdb.db.flush.micros_SUM</th>\n",
       "    </tr>\n",
       "    <tr>\n",
       "      <th>index</th>\n",
       "      <th></th>\n",
       "      <th></th>\n",
       "      <th></th>\n",
       "      <th></th>\n",
       "      <th></th>\n",
       "      <th></th>\n",
       "      <th></th>\n",
       "      <th></th>\n",
       "      <th></th>\n",
       "      <th></th>\n",
       "      <th></th>\n",
       "      <th></th>\n",
       "      <th></th>\n",
       "      <th></th>\n",
       "      <th></th>\n",
       "      <th></th>\n",
       "      <th></th>\n",
       "      <th></th>\n",
       "      <th></th>\n",
       "      <th></th>\n",
       "      <th></th>\n",
       "    </tr>\n",
       "  </thead>\n",
       "  <tbody>\n",
       "    <tr>\n",
       "      <th>/home/jieun/data_generation_rocksdb/rocksdb_conf/config1.cnf</th>\n",
       "      <td>1296845</td>\n",
       "      <td>1172926</td>\n",
       "      <td>1213729</td>\n",
       "      <td>0</td>\n",
       "      <td>0</td>\n",
       "      <td>0</td>\n",
       "      <td>0</td>\n",
       "      <td>1296845</td>\n",
       "      <td>1172926</td>\n",
       "      <td>1213729</td>\n",
       "      <td>...</td>\n",
       "      <td>8383.000000</td>\n",
       "      <td>8383.0</td>\n",
       "      <td>1297251</td>\n",
       "      <td>10856979511</td>\n",
       "      <td>21652.173913</td>\n",
       "      <td>30615.000000</td>\n",
       "      <td>30615.0</td>\n",
       "      <td>30615.0</td>\n",
       "      <td>44</td>\n",
       "      <td>1015663</td>\n",
       "    </tr>\n",
       "    <tr>\n",
       "      <th>/home/jieun/data_generation_rocksdb/rocksdb_conf/config2.cnf</th>\n",
       "      <td>1304820</td>\n",
       "      <td>4192080</td>\n",
       "      <td>1256074</td>\n",
       "      <td>1582</td>\n",
       "      <td>2701880</td>\n",
       "      <td>1582</td>\n",
       "      <td>5078096</td>\n",
       "      <td>1303238</td>\n",
       "      <td>1490200</td>\n",
       "      <td>1254492</td>\n",
       "      <td>...</td>\n",
       "      <td>14659.000000</td>\n",
       "      <td>14659.0</td>\n",
       "      <td>1304820</td>\n",
       "      <td>19074632333</td>\n",
       "      <td>18135.593220</td>\n",
       "      <td>21979.661017</td>\n",
       "      <td>26561.0</td>\n",
       "      <td>26561.0</td>\n",
       "      <td>63</td>\n",
       "      <td>1074316</td>\n",
       "    </tr>\n",
       "    <tr>\n",
       "      <th>/home/jieun/data_generation_rocksdb/rocksdb_conf/config3.cnf</th>\n",
       "      <td>1407632</td>\n",
       "      <td>2195141</td>\n",
       "      <td>1315590</td>\n",
       "      <td>0</td>\n",
       "      <td>0</td>\n",
       "      <td>0</td>\n",
       "      <td>0</td>\n",
       "      <td>1407632</td>\n",
       "      <td>2195141</td>\n",
       "      <td>1315590</td>\n",
       "      <td>...</td>\n",
       "      <td>6578.256132</td>\n",
       "      <td>12483.0</td>\n",
       "      <td>1407897</td>\n",
       "      <td>8847109704</td>\n",
       "      <td>29660.714286</td>\n",
       "      <td>45820.000000</td>\n",
       "      <td>45820.0</td>\n",
       "      <td>45820.0</td>\n",
       "      <td>78</td>\n",
       "      <td>2692570</td>\n",
       "    </tr>\n",
       "    <tr>\n",
       "      <th>/home/jieun/data_generation_rocksdb/rocksdb_conf/config4.cnf</th>\n",
       "      <td>1497592</td>\n",
       "      <td>7007880</td>\n",
       "      <td>1252738</td>\n",
       "      <td>974</td>\n",
       "      <td>4003817</td>\n",
       "      <td>974</td>\n",
       "      <td>6993856</td>\n",
       "      <td>1496618</td>\n",
       "      <td>3004063</td>\n",
       "      <td>1251764</td>\n",
       "      <td>...</td>\n",
       "      <td>4385.648850</td>\n",
       "      <td>9451.0</td>\n",
       "      <td>1497592</td>\n",
       "      <td>4718848784</td>\n",
       "      <td>24646.616541</td>\n",
       "      <td>32387.969925</td>\n",
       "      <td>34773.0</td>\n",
       "      <td>34773.0</td>\n",
       "      <td>208</td>\n",
       "      <td>5221234</td>\n",
       "    </tr>\n",
       "  </tbody>\n",
       "</table>\n",
       "<p>4 rows × 148 columns</p>\n",
       "</div>"
      ],
      "text/plain": [
       "                                                    rocksdb.block.cache.miss COUNT  \\\n",
       "index                                                                                \n",
       "/home/jieun/data_generation_rocksdb/rocksdb_con...                         1296845   \n",
       "/home/jieun/data_generation_rocksdb/rocksdb_con...                         1304820   \n",
       "/home/jieun/data_generation_rocksdb/rocksdb_con...                         1407632   \n",
       "/home/jieun/data_generation_rocksdb/rocksdb_con...                         1497592   \n",
       "\n",
       "                                                    rocksdb.block.cache.hit COUNT  \\\n",
       "index                                                                               \n",
       "/home/jieun/data_generation_rocksdb/rocksdb_con...                        1172926   \n",
       "/home/jieun/data_generation_rocksdb/rocksdb_con...                        4192080   \n",
       "/home/jieun/data_generation_rocksdb/rocksdb_con...                        2195141   \n",
       "/home/jieun/data_generation_rocksdb/rocksdb_con...                        7007880   \n",
       "\n",
       "                                                    rocksdb.block.cache.add COUNT  \\\n",
       "index                                                                               \n",
       "/home/jieun/data_generation_rocksdb/rocksdb_con...                        1213729   \n",
       "/home/jieun/data_generation_rocksdb/rocksdb_con...                        1256074   \n",
       "/home/jieun/data_generation_rocksdb/rocksdb_con...                        1315590   \n",
       "/home/jieun/data_generation_rocksdb/rocksdb_con...                        1252738   \n",
       "\n",
       "                                                    rocksdb.block.cache.index.miss COUNT  \\\n",
       "index                                                                                      \n",
       "/home/jieun/data_generation_rocksdb/rocksdb_con...                                     0   \n",
       "/home/jieun/data_generation_rocksdb/rocksdb_con...                                  1582   \n",
       "/home/jieun/data_generation_rocksdb/rocksdb_con...                                     0   \n",
       "/home/jieun/data_generation_rocksdb/rocksdb_con...                                   974   \n",
       "\n",
       "                                                    rocksdb.block.cache.index.hit COUNT  \\\n",
       "index                                                                                     \n",
       "/home/jieun/data_generation_rocksdb/rocksdb_con...                                    0   \n",
       "/home/jieun/data_generation_rocksdb/rocksdb_con...                              2701880   \n",
       "/home/jieun/data_generation_rocksdb/rocksdb_con...                                    0   \n",
       "/home/jieun/data_generation_rocksdb/rocksdb_con...                              4003817   \n",
       "\n",
       "                                                    rocksdb.block.cache.index.add COUNT  \\\n",
       "index                                                                                     \n",
       "/home/jieun/data_generation_rocksdb/rocksdb_con...                                    0   \n",
       "/home/jieun/data_generation_rocksdb/rocksdb_con...                                 1582   \n",
       "/home/jieun/data_generation_rocksdb/rocksdb_con...                                    0   \n",
       "/home/jieun/data_generation_rocksdb/rocksdb_con...                                  974   \n",
       "\n",
       "                                                    rocksdb.block.cache.index.bytes.insert COUNT  \\\n",
       "index                                                                                              \n",
       "/home/jieun/data_generation_rocksdb/rocksdb_con...                                             0   \n",
       "/home/jieun/data_generation_rocksdb/rocksdb_con...                                       5078096   \n",
       "/home/jieun/data_generation_rocksdb/rocksdb_con...                                             0   \n",
       "/home/jieun/data_generation_rocksdb/rocksdb_con...                                       6993856   \n",
       "\n",
       "                                                    rocksdb.block.cache.data.miss COUNT  \\\n",
       "index                                                                                     \n",
       "/home/jieun/data_generation_rocksdb/rocksdb_con...                              1296845   \n",
       "/home/jieun/data_generation_rocksdb/rocksdb_con...                              1303238   \n",
       "/home/jieun/data_generation_rocksdb/rocksdb_con...                              1407632   \n",
       "/home/jieun/data_generation_rocksdb/rocksdb_con...                              1496618   \n",
       "\n",
       "                                                    rocksdb.block.cache.data.hit COUNT  \\\n",
       "index                                                                                    \n",
       "/home/jieun/data_generation_rocksdb/rocksdb_con...                             1172926   \n",
       "/home/jieun/data_generation_rocksdb/rocksdb_con...                             1490200   \n",
       "/home/jieun/data_generation_rocksdb/rocksdb_con...                             2195141   \n",
       "/home/jieun/data_generation_rocksdb/rocksdb_con...                             3004063   \n",
       "\n",
       "                                                    rocksdb.block.cache.data.add COUNT  \\\n",
       "index                                                                                    \n",
       "/home/jieun/data_generation_rocksdb/rocksdb_con...                             1213729   \n",
       "/home/jieun/data_generation_rocksdb/rocksdb_con...                             1254492   \n",
       "/home/jieun/data_generation_rocksdb/rocksdb_con...                             1315590   \n",
       "/home/jieun/data_generation_rocksdb/rocksdb_con...                             1251764   \n",
       "\n",
       "                                                    ...  \\\n",
       "index                                               ...   \n",
       "/home/jieun/data_generation_rocksdb/rocksdb_con...  ...   \n",
       "/home/jieun/data_generation_rocksdb/rocksdb_con...  ...   \n",
       "/home/jieun/data_generation_rocksdb/rocksdb_con...  ...   \n",
       "/home/jieun/data_generation_rocksdb/rocksdb_con...  ...   \n",
       "\n",
       "                                                    rocksdb.bytes.decompressed_P99  \\\n",
       "index                                                                                \n",
       "/home/jieun/data_generation_rocksdb/rocksdb_con...                     8383.000000   \n",
       "/home/jieun/data_generation_rocksdb/rocksdb_con...                    14659.000000   \n",
       "/home/jieun/data_generation_rocksdb/rocksdb_con...                     6578.256132   \n",
       "/home/jieun/data_generation_rocksdb/rocksdb_con...                     4385.648850   \n",
       "\n",
       "                                                    rocksdb.bytes.decompressed_P100  \\\n",
       "index                                                                                 \n",
       "/home/jieun/data_generation_rocksdb/rocksdb_con...                           8383.0   \n",
       "/home/jieun/data_generation_rocksdb/rocksdb_con...                          14659.0   \n",
       "/home/jieun/data_generation_rocksdb/rocksdb_con...                          12483.0   \n",
       "/home/jieun/data_generation_rocksdb/rocksdb_con...                           9451.0   \n",
       "\n",
       "                                                    rocksdb.bytes.decompressed_COUNT  \\\n",
       "index                                                                                  \n",
       "/home/jieun/data_generation_rocksdb/rocksdb_con...                           1297251   \n",
       "/home/jieun/data_generation_rocksdb/rocksdb_con...                           1304820   \n",
       "/home/jieun/data_generation_rocksdb/rocksdb_con...                           1407897   \n",
       "/home/jieun/data_generation_rocksdb/rocksdb_con...                           1497592   \n",
       "\n",
       "                                                    rocksdb.bytes.decompressed_SUM  \\\n",
       "index                                                                                \n",
       "/home/jieun/data_generation_rocksdb/rocksdb_con...                     10856979511   \n",
       "/home/jieun/data_generation_rocksdb/rocksdb_con...                     19074632333   \n",
       "/home/jieun/data_generation_rocksdb/rocksdb_con...                      8847109704   \n",
       "/home/jieun/data_generation_rocksdb/rocksdb_con...                      4718848784   \n",
       "\n",
       "                                                    rocksdb.db.flush.micros_P50  \\\n",
       "index                                                                             \n",
       "/home/jieun/data_generation_rocksdb/rocksdb_con...                 21652.173913   \n",
       "/home/jieun/data_generation_rocksdb/rocksdb_con...                 18135.593220   \n",
       "/home/jieun/data_generation_rocksdb/rocksdb_con...                 29660.714286   \n",
       "/home/jieun/data_generation_rocksdb/rocksdb_con...                 24646.616541   \n",
       "\n",
       "                                                    rocksdb.db.flush.micros_P95  \\\n",
       "index                                                                             \n",
       "/home/jieun/data_generation_rocksdb/rocksdb_con...                 30615.000000   \n",
       "/home/jieun/data_generation_rocksdb/rocksdb_con...                 21979.661017   \n",
       "/home/jieun/data_generation_rocksdb/rocksdb_con...                 45820.000000   \n",
       "/home/jieun/data_generation_rocksdb/rocksdb_con...                 32387.969925   \n",
       "\n",
       "                                                    rocksdb.db.flush.micros_P99  \\\n",
       "index                                                                             \n",
       "/home/jieun/data_generation_rocksdb/rocksdb_con...                      30615.0   \n",
       "/home/jieun/data_generation_rocksdb/rocksdb_con...                      26561.0   \n",
       "/home/jieun/data_generation_rocksdb/rocksdb_con...                      45820.0   \n",
       "/home/jieun/data_generation_rocksdb/rocksdb_con...                      34773.0   \n",
       "\n",
       "                                                    rocksdb.db.flush.micros_P100  \\\n",
       "index                                                                              \n",
       "/home/jieun/data_generation_rocksdb/rocksdb_con...                       30615.0   \n",
       "/home/jieun/data_generation_rocksdb/rocksdb_con...                       26561.0   \n",
       "/home/jieun/data_generation_rocksdb/rocksdb_con...                       45820.0   \n",
       "/home/jieun/data_generation_rocksdb/rocksdb_con...                       34773.0   \n",
       "\n",
       "                                                    rocksdb.db.flush.micros_COUNT  \\\n",
       "index                                                                               \n",
       "/home/jieun/data_generation_rocksdb/rocksdb_con...                             44   \n",
       "/home/jieun/data_generation_rocksdb/rocksdb_con...                             63   \n",
       "/home/jieun/data_generation_rocksdb/rocksdb_con...                             78   \n",
       "/home/jieun/data_generation_rocksdb/rocksdb_con...                            208   \n",
       "\n",
       "                                                    rocksdb.db.flush.micros_SUM  \n",
       "index                                                                            \n",
       "/home/jieun/data_generation_rocksdb/rocksdb_con...                      1015663  \n",
       "/home/jieun/data_generation_rocksdb/rocksdb_con...                      1074316  \n",
       "/home/jieun/data_generation_rocksdb/rocksdb_con...                      2692570  \n",
       "/home/jieun/data_generation_rocksdb/rocksdb_con...                      5221234  \n",
       "\n",
       "[4 rows x 148 columns]"
      ]
     },
     "execution_count": 4,
     "metadata": {},
     "output_type": "execute_result"
    }
   ],
   "source": [
    "wk_len = 16\n",
    "internal_dict = {}\n",
    "\n",
    "pruned_im = pd.read_csv(os.path.join(PATH_internal, 'internal_ensemble_pruned_tmp.csv'), index_col=0)\n",
    "for wk in range(wk_len):\n",
    "    im = pd.read_csv(os.path.join(PATH_internal, f'internal_results_{wk}.csv'), index_col=0)\n",
    "    internal_dict[wk] = im[pruned_im.columns]\n",
    "#     break\n",
    "internal_dict[0].head(4)"
   ]
  },
  {
   "cell_type": "code",
   "execution_count": 5,
   "id": "88bc584d",
   "metadata": {},
   "outputs": [
    {
     "data": {
      "text/html": [
       "<div>\n",
       "<style scoped>\n",
       "    .dataframe tbody tr th:only-of-type {\n",
       "        vertical-align: middle;\n",
       "    }\n",
       "\n",
       "    .dataframe tbody tr th {\n",
       "        vertical-align: top;\n",
       "    }\n",
       "\n",
       "    .dataframe thead th {\n",
       "        text-align: right;\n",
       "    }\n",
       "</style>\n",
       "<table border=\"1\" class=\"dataframe\">\n",
       "  <thead>\n",
       "    <tr style=\"text-align: right;\">\n",
       "      <th></th>\n",
       "      <th>TIME</th>\n",
       "      <th>RATE</th>\n",
       "      <th>WAF</th>\n",
       "      <th>SA</th>\n",
       "    </tr>\n",
       "    <tr>\n",
       "      <th>index</th>\n",
       "      <th></th>\n",
       "      <th></th>\n",
       "      <th></th>\n",
       "      <th></th>\n",
       "    </tr>\n",
       "  </thead>\n",
       "  <tbody>\n",
       "    <tr>\n",
       "      <th>/home/jieun/data_generation_rocksdb/rocksdb_conf/config1.cnf</th>\n",
       "      <td>21.8</td>\n",
       "      <td>4.77</td>\n",
       "      <td>8.7</td>\n",
       "      <td>72.17</td>\n",
       "    </tr>\n",
       "    <tr>\n",
       "      <th>/home/jieun/data_generation_rocksdb/rocksdb_conf/config2.cnf</th>\n",
       "      <td>25.9</td>\n",
       "      <td>4.02</td>\n",
       "      <td>8.9</td>\n",
       "      <td>55.83</td>\n",
       "    </tr>\n",
       "    <tr>\n",
       "      <th>/home/jieun/data_generation_rocksdb/rocksdb_conf/config3.cnf</th>\n",
       "      <td>52.0</td>\n",
       "      <td>2.00</td>\n",
       "      <td>7.5</td>\n",
       "      <td>34.21</td>\n",
       "    </tr>\n",
       "    <tr>\n",
       "      <th>/home/jieun/data_generation_rocksdb/rocksdb_conf/config4.cnf</th>\n",
       "      <td>53.6</td>\n",
       "      <td>1.94</td>\n",
       "      <td>10.5</td>\n",
       "      <td>56.94</td>\n",
       "    </tr>\n",
       "  </tbody>\n",
       "</table>\n",
       "</div>"
      ],
      "text/plain": [
       "                                                    TIME  RATE   WAF     SA\n",
       "index                                                                      \n",
       "/home/jieun/data_generation_rocksdb/rocksdb_con...  21.8  4.77   8.7  72.17\n",
       "/home/jieun/data_generation_rocksdb/rocksdb_con...  25.9  4.02   8.9  55.83\n",
       "/home/jieun/data_generation_rocksdb/rocksdb_con...  52.0  2.00   7.5  34.21\n",
       "/home/jieun/data_generation_rocksdb/rocksdb_con...  53.6  1.94  10.5  56.94"
      ]
     },
     "execution_count": 5,
     "metadata": {},
     "output_type": "execute_result"
    }
   ],
   "source": [
    "external_dict = {}\n",
    "for wk in range(wk_len):\n",
    "    ex = pd.read_csv(os.path.join(PATH_external, f'external_results_{wk}.csv'), index_col=0)\n",
    "    external_dict[wk] = ex\n",
    "#     break\n",
    "external_dict[0].head(4)"
   ]
  },
  {
   "cell_type": "markdown",
   "id": "aa739556",
   "metadata": {},
   "source": [
    "## Test Train\n",
    "- train: 16000, test: 4000\n",
    "- target: 0 th workload"
   ]
  },
  {
   "cell_type": "code",
   "execution_count": 6,
   "id": "48e90336",
   "metadata": {},
   "outputs": [],
   "source": [
    "from sklearn.model_selection import train_test_split\n",
    "from sklearn.preprocessing import MinMaxScaler, StandardScaler\n",
    "from torch.utils.data import Dataset, DataLoader\n",
    "from models.network import RocksDBDataset, SingleNet#, EncoderRNN, DecoderRNN\n",
    "from models.train import train, valid#, trainRNN, validRNN"
   ]
  },
  {
   "cell_type": "code",
   "execution_count": 7,
   "id": "6ed8b621",
   "metadata": {},
   "outputs": [
    {
     "data": {
      "text/plain": [
       "((20000, 3327), (20000, 148), (20000, 4))"
      ]
     },
     "execution_count": 7,
     "metadata": {},
     "output_type": "execute_result"
    }
   ],
   "source": [
    "knobOneHot = np.load('../data/knobsOneHot.npy')\n",
    "internal_m = internal_dict[2] # similar datasets\n",
    "external_m = external_dict[2] # similar datasets\n",
    "knobOneHot.shape, internal_m.shape, external_m.shape"
   ]
  },
  {
   "cell_type": "code",
   "execution_count": 8,
   "id": "420c7d8c",
   "metadata": {},
   "outputs": [
    {
     "data": {
      "text/plain": [
       "((16000, 3327),\n",
       " (4000, 3327),\n",
       " (16000, 148),\n",
       " (4000, 148),\n",
       " (16000, 4),\n",
       " (4000, 4),\n",
       " (16000, 22),\n",
       " (4000, 22))"
      ]
     },
     "execution_count": 8,
     "metadata": {},
     "output_type": "execute_result"
    }
   ],
   "source": [
    "X_tr, X_te, Im_tr, Im_te, y_tr, y_te, knob_tr, knob_te = \\\n",
    "            train_test_split(knobOneHot, internal_m, external_m, knobs, test_size=0.2, random_state=24)\n",
    "X_tr.shape, X_te.shape, Im_tr.shape, Im_te.shape, y_tr.shape, y_te.shape, knob_tr.shape, knob_te.shape"
   ]
  },
  {
   "cell_type": "code",
   "execution_count": null,
   "id": "602fcade",
   "metadata": {
    "scrolled": true
   },
   "outputs": [],
   "source": [
    "y_te.to_numpy()[0,:]"
   ]
  },
  {
   "cell_type": "code",
   "execution_count": null,
   "id": "cb231188",
   "metadata": {},
   "outputs": [],
   "source": [
    "Im_tr.shape"
   ]
  },
  {
   "cell_type": "markdown",
   "id": "f64ab563",
   "metadata": {},
   "source": [
    "### Pre-training"
   ]
  },
  {
   "cell_type": "code",
   "execution_count": 9,
   "id": "8a67cd6f",
   "metadata": {},
   "outputs": [],
   "source": [
    "scaler_X = MinMaxScaler().fit(X_tr) # range: 0~1\n",
    "scaler_knob = MinMaxScaler().fit(knob_tr)\n",
    "scaler_Im = MinMaxScaler().fit(Im_tr)\n",
    "scaler_y = StandardScaler().fit(y_tr)\n",
    "\n",
    "# X_norm_tr = torch.Tensor(scaler_X.transform(X_tr)).cuda()\n",
    "# X_norm_te = torch.Tensor(scaler_X.transform(X_te)).cuda()\n",
    "X_tr = torch.Tensor(X_tr).cuda()\n",
    "X_te = torch.Tensor(X_te).cuda()\n",
    "y_norm_tr = torch.Tensor(scaler_y.transform(y_tr)).cuda()\n",
    "y_norm_te = torch.Tensor(scaler_y.transform(y_te)).cuda()"
   ]
  },
  {
   "cell_type": "code",
   "execution_count": 10,
   "id": "3636eadf",
   "metadata": {},
   "outputs": [],
   "source": [
    "Im_norm_tr = torch.Tensor(scaler_Im.transform(Im_tr)).cuda()\n",
    "Im_norm_te = torch.Tensor(scaler_Im.transform(Im_te)).cuda()\n",
    "Dataset_tr = RocksDBDataset(X_tr, Im_norm_tr)\n",
    "Dataset_te = RocksDBDataset(X_te, Im_norm_te)\n",
    "\n",
    "loader_tr = DataLoader(dataset = Dataset_tr, batch_size = 32, shuffle=True)\n",
    "loader_te = DataLoader(dataset = Dataset_te, batch_size = 32, shuffle=False)"
   ]
  },
  {
   "cell_type": "code",
   "execution_count": 11,
   "id": "fc9afcc7",
   "metadata": {},
   "outputs": [],
   "source": [
    "k2i_model = SingleNet(input_dim=X_tr.shape[1], hidden_dim=1024, output_dim=148).cuda()"
   ]
  },
  {
   "cell_type": "code",
   "execution_count": 12,
   "id": "a998a4a8",
   "metadata": {
    "scrolled": false
   },
   "outputs": [
    {
     "name": "stdout",
     "output_type": "stream",
     "text": [
      "[00/30] loss_tr: 0.008892751182429492\n",
      "[01/30] loss_tr: 0.0042710546874441205\n",
      "[02/30] loss_tr: 0.0031172816404141488\n",
      "[03/30] loss_tr: 0.002162567096296698\n",
      "[04/30] loss_tr: 0.0016455949055962265\n",
      "[05/30] loss_tr: 0.0013694253055145963\n",
      "[06/30] loss_tr: 0.001190343408496119\n",
      "[07/30] loss_tr: 0.0010547415347537026\n",
      "[08/30] loss_tr: 0.0009632199752377346\n",
      "[09/30] loss_tr: 0.0008759727024007589\n",
      "[10/30] loss_tr: 0.0008113266212167219\n",
      "[11/30] loss_tr: 0.0007535783359198831\n",
      "[12/30] loss_tr: 0.0007175170193659141\n",
      "[13/30] loss_tr: 0.000674728078651242\n",
      "[14/30] loss_tr: 0.0006382917282753624\n",
      "[15/30] loss_tr: 0.0006211926711257547\n",
      "[16/30] loss_tr: 0.0005942831324646249\n",
      "[17/30] loss_tr: 0.0005793707085540519\n",
      "[18/30] loss_tr: 0.000553441908210516\n",
      "[19/30] loss_tr: 0.0005300793341593817\n",
      "[20/30] loss_tr: 0.0005186094209784642\n",
      "[21/30] loss_tr: 0.0005029290979146026\n",
      "[22/30] loss_tr: 0.0004919989100308158\n",
      "[23/30] loss_tr: 0.0004805085865664296\n",
      "[24/30] loss_tr: 0.00047077390766935424\n",
      "[25/30] loss_tr: 0.00045411183324176816\n",
      "[26/30] loss_tr: 0.00044857382448390125\n",
      "[27/30] loss_tr: 0.00043778281094273555\n",
      "[28/30] loss_tr: 0.0004293528225971386\n",
      "[29/30] loss_tr: 0.0004226199428667314\n"
     ]
    }
   ],
   "source": [
    "lr = 0.001\n",
    "epochs = 30\n",
    "losses_tr = []\n",
    "\n",
    "for epoch in range(epochs):\n",
    "    loss_tr = train(k2i_model, loader_tr, lr)\n",
    "    losses_tr.append(loss_tr)\n",
    "\n",
    "    print(f\"[{epoch:02d}/{epochs}] loss_tr: {loss_tr}\")\n",
    "        \n",
    "# print(f\"[{epoch:02d}/{epochs}] loss_tr: {loss_tr:.4f}\")"
   ]
  },
  {
   "cell_type": "markdown",
   "id": "922ffb5b",
   "metadata": {},
   "source": [
    "### Train with knob2vec"
   ]
  },
  {
   "cell_type": "code",
   "execution_count": 13,
   "id": "cad7e220",
   "metadata": {
    "scrolled": true
   },
   "outputs": [
    {
     "data": {
      "text/plain": [
       "(3327, 1024)"
      ]
     },
     "execution_count": 13,
     "metadata": {},
     "output_type": "execute_result"
    }
   ],
   "source": [
    "lookup_table = k2i_model.knob_fc[0].weight.T.cpu().detach().numpy()\n",
    "# lookup_table = np.load('LookupTable.npy')\n",
    "lookup_table.shape"
   ]
  },
  {
   "cell_type": "code",
   "execution_count": null,
   "id": "56fbef15",
   "metadata": {},
   "outputs": [],
   "source": [
    "# np.save('LookupTable.npy', lookup_table)"
   ]
  },
  {
   "cell_type": "code",
   "execution_count": 14,
   "id": "0e41d453",
   "metadata": {},
   "outputs": [],
   "source": [
    "def get_knob2vec(data, table):\n",
    "    k2vec = np.zeros((data.shape[0], 22, table.shape[1]))\n",
    "    for i in range(data.shape[0]):\n",
    "#         idx = (data[i]==1).nonzero().squeeze().cpu().detach().numpy()\n",
    "        idx = (data[i]==1).nonzero().squeeze().cpu().detach().numpy()\n",
    "        k2vec[i] = lookup_table[idx]\n",
    "    return k2vec"
   ]
  },
  {
   "cell_type": "code",
   "execution_count": 15,
   "id": "7d46b3d3",
   "metadata": {
    "scrolled": true
   },
   "outputs": [
    {
     "name": "stderr",
     "output_type": "stream",
     "text": [
      "/home/jieun/anaconda3/envs/py3.7/lib/python3.7/site-packages/ipykernel_launcher.py:5: UserWarning: This overload of nonzero is deprecated:\n",
      "\tnonzero()\n",
      "Consider using one of the following signatures instead:\n",
      "\tnonzero(*, bool as_tuple) (Triggered internally at  /opt/conda/conda-bld/pytorch_1603729047590/work/torch/csrc/utils/python_arg_parser.cpp:882.)\n",
      "  \"\"\"\n"
     ]
    }
   ],
   "source": [
    "K2vec_tr = torch.Tensor(get_knob2vec(X_tr, lookup_table)).cuda()\n",
    "K2vec_tr = torch.reshape(K2vec_tr, (K2vec_tr.shape[0], -1))\n",
    "K2vec_te = torch.Tensor(get_knob2vec(X_te, lookup_table)).cuda()\n",
    "K2vec_te = torch.reshape(K2vec_te, (K2vec_te.shape[0], -1))\n",
    "\n",
    "Dataset_K2vec_tr = RocksDBDataset(K2vec_tr, y_norm_tr)\n",
    "Dataset_K2vec_te = RocksDBDataset(K2vec_te, y_norm_te)\n",
    "\n",
    "loader_K2vec_tr = DataLoader(dataset = Dataset_K2vec_tr, batch_size = 32, shuffle=True)\n",
    "loader_K2vec_te = DataLoader(dataset = Dataset_K2vec_te, batch_size = 32, shuffle=True)"
   ]
  },
  {
   "cell_type": "code",
   "execution_count": 16,
   "id": "86605f99",
   "metadata": {},
   "outputs": [],
   "source": [
    "model = SingleNet(input_dim=K2vec_tr.shape[-1], hidden_dim=64, output_dim=4).cuda()"
   ]
  },
  {
   "cell_type": "code",
   "execution_count": 17,
   "id": "566a6bff",
   "metadata": {
    "scrolled": true
   },
   "outputs": [
    {
     "name": "stdout",
     "output_type": "stream",
     "text": [
      "[0/30] loss_tr: 0.17557958\tloss_te:0.18121772\n",
      "[1/30] loss_tr: 0.12320790\tloss_te:0.18437419\n",
      "[2/30] loss_tr: 0.10532429\tloss_te:0.17766876\n",
      "[3/30] loss_tr: 0.09626329\tloss_te:0.19151275\n",
      "[4/30] loss_tr: 0.08872125\tloss_te:0.19363469\n",
      "[5/30] loss_tr: 0.08239687\tloss_te:0.19791796\n",
      "[6/30] loss_tr: 0.07563802\tloss_te:0.19482084\n",
      "[7/30] loss_tr: 0.07166722\tloss_te:0.19370911\n",
      "[8/30] loss_tr: 0.06718028\tloss_te:0.19548641\n",
      "[9/30] loss_tr: 0.06371107\tloss_te:0.19459494\n",
      "[10/30] loss_tr: 0.05993534\tloss_te:0.20321043\n",
      "[11/30] loss_tr: 0.05624892\tloss_te:0.19465362\n",
      "[12/30] loss_tr: 0.05402923\tloss_te:0.20398066\n",
      "[13/30] loss_tr: 0.05185005\tloss_te:0.20488734\n",
      "[14/30] loss_tr: 0.04932535\tloss_te:0.20031519\n",
      "[15/30] loss_tr: 0.04780192\tloss_te:0.21007408\n",
      "[16/30] loss_tr: 0.04649080\tloss_te:0.19928752\n",
      "[17/30] loss_tr: 0.04514992\tloss_te:0.20402052\n",
      "[18/30] loss_tr: 0.04348185\tloss_te:0.20264021\n",
      "[19/30] loss_tr: 0.04165939\tloss_te:0.20418413\n",
      "[20/30] loss_tr: 0.04064165\tloss_te:0.21427403\n",
      "[21/30] loss_tr: 0.03940366\tloss_te:0.20449282\n",
      "[22/30] loss_tr: 0.03852579\tloss_te:0.20432553\n",
      "[23/30] loss_tr: 0.03662180\tloss_te:0.20637743\n",
      "[24/30] loss_tr: 0.03614834\tloss_te:0.21135302\n",
      "[25/30] loss_tr: 0.03472099\tloss_te:0.20535262\n",
      "[26/30] loss_tr: 0.03433660\tloss_te:0.21660911\n",
      "[27/30] loss_tr: 0.03306494\tloss_te:0.20919963\n",
      "[28/30] loss_tr: 0.03231558\tloss_te:0.20904694\n",
      "[29/30] loss_tr: 0.03236335\tloss_te:0.21537357\n"
     ]
    }
   ],
   "source": [
    "lr = 0.001\n",
    "epochs = 30\n",
    "losses_tr = []\n",
    "losses_te = []\n",
    "for epoch in range(epochs):\n",
    "    loss_tr = train(model, loader_K2vec_tr, lr)\n",
    "    loss_te, outputs = valid(model, loader_K2vec_te)\n",
    "    \n",
    "    losses_tr.append(loss_tr)\n",
    "    losses_te.append(loss_te)\n",
    "    \n",
    "    print(f'[{epoch}/{epochs}] loss_tr: {loss_tr:.8f}\\tloss_te:{loss_te:.8f}')"
   ]
  },
  {
   "cell_type": "code",
   "execution_count": 30,
   "id": "a4304f21",
   "metadata": {},
   "outputs": [],
   "source": [
    "pred = np.round(scaler_y.inverse_transform(outputs.cpu().detach().numpy()),2)\n",
    "true = y_te.to_numpy()"
   ]
  },
  {
   "cell_type": "code",
   "execution_count": 29,
   "id": "1dc9c153",
   "metadata": {},
   "outputs": [],
   "source": [
    "from sklearn.metrics import r2_score"
   ]
  },
  {
   "cell_type": "code",
   "execution_count": 33,
   "id": "3c89e165",
   "metadata": {},
   "outputs": [
    {
     "name": "stdout",
     "output_type": "stream",
     "text": [
      "predict rslt: [13.22  6.66  5.16 98.16]\n",
      "ground truth: [12.4   8.25  6.6  81.11]\n",
      "\n",
      "predict rslt: [ 4.6  23.21  7.34 24.46]\n",
      "ground truth: [ 4.4  23.04  7.7  97.67]\n",
      "\n",
      "predict rslt: [ 6.01 17.59  5.22 61.35]\n",
      "ground truth: [11.4   8.99  5.1  97.64]\n",
      "\n",
      "predict rslt: [ 7.27 14.33  4.74 99.03]\n",
      "ground truth: [ 5.6  18.24  6.   75.3 ]\n",
      "\n",
      "predict rslt: [ 3.92 28.11  7.38 15.52]\n",
      "ground truth: [17.    6.01  8.   46.08]\n",
      "\n",
      "predict rslt: [12.97  7.58  4.51 96.72]\n",
      "ground truth: [12.7   8.08  6.7  84.06]\n",
      "\n",
      "predict rslt: [ 6.69 17.47  7.06 68.59]\n",
      "ground truth: [ 4.6  22.11  7.   44.21]\n",
      "\n",
      "predict rslt: [ 9.6  14.14  5.88 97.78]\n",
      "ground truth: [ 4.   25.34  6.8  50.02]\n",
      "\n",
      "predict rslt: [ 3.82 25.43  6.43 37.47]\n",
      "ground truth: [ 8.   12.84  6.8  97.7 ]\n",
      "\n",
      "predict rslt: [10.83  8.87  5.35 84.41]\n",
      "ground truth: [ 4.7  21.56  5.1  52.98]\n",
      "\n"
     ]
    }
   ],
   "source": [
    "for i in range(10):\n",
    "    print(f'predict rslt: {pred[i]}')\n",
    "    print(f'ground truth: {true[i]}\\n')"
   ]
  },
  {
   "cell_type": "code",
   "execution_count": 32,
   "id": "d166eb1b",
   "metadata": {},
   "outputs": [
    {
     "data": {
      "text/plain": [
       "(array([[12.4 ,  8.25,  6.6 , 81.11],\n",
       "        [ 4.4 , 23.04,  7.7 , 97.67],\n",
       "        [11.4 ,  8.99,  5.1 , 97.64],\n",
       "        ...,\n",
       "        [19.3 ,  5.31,  8.3 , 52.58],\n",
       "        [22.4 ,  4.56,  6.9 , 70.29],\n",
       "        [ 3.4 , 30.45,  6.2 , 15.88]]),\n",
       " array([[13.22,  6.66,  5.16, 98.16],\n",
       "        [ 4.6 , 23.21,  7.34, 24.46],\n",
       "        [ 6.01, 17.59,  5.22, 61.35],\n",
       "        ...,\n",
       "        [10.64, 11.73,  5.81, 98.46],\n",
       "        [ 9.21, 12.75,  6.4 , 96.19],\n",
       "        [11.48,  9.32,  5.85, 98.66]], dtype=float32))"
      ]
     },
     "execution_count": 32,
     "metadata": {},
     "output_type": "execute_result"
    }
   ],
   "source": [
    "true, pred"
   ]
  },
  {
   "cell_type": "code",
   "execution_count": 31,
   "id": "598c0d17",
   "metadata": {
    "scrolled": true
   },
   "outputs": [
    {
     "data": {
      "text/plain": [
       "-0.9423747994055933"
      ]
     },
     "execution_count": 31,
     "metadata": {},
     "output_type": "execute_result"
    }
   ],
   "source": [
    "r2_score(true, pred)"
   ]
  },
  {
   "cell_type": "markdown",
   "id": "e31d29a7",
   "metadata": {},
   "source": [
    "### Train with knob2vec and GRU"
   ]
  },
  {
   "cell_type": "code",
   "execution_count": null,
   "id": "c0424634",
   "metadata": {},
   "outputs": [],
   "source": [
    "K2vec_tr = torch.Tensor(get_knob2vec(X_tr, lookup_table)).cuda()\n",
    "K2vec_te = torch.Tensor(get_knob2vec(X_te, lookup_table)).cuda()\n",
    "\n",
    "Dataset_K2vec_tr = RocksDBDataset(K2vec_tr, y_norm_tr)\n",
    "Dataset_K2vec_te = RocksDBDataset(K2vec_te, y_norm_te)\n",
    "\n",
    "loader_K2vec_tr = DataLoader(dataset = Dataset_K2vec_tr, batch_size = 32, shuffle=True)\n",
    "loader_K2vec_te = DataLoader(dataset = Dataset_K2vec_te, batch_size = 32, shuffle=True)"
   ]
  },
  {
   "cell_type": "code",
   "execution_count": null,
   "id": "f34a20c2",
   "metadata": {},
   "outputs": [],
   "source": [
    "encoder = EncoderRNN(hidden_dim=K2vec_tr.shape[-1]).cuda()\n",
    "decoder = DecoderRNN(hidden_dim=K2vec_tr.shape[-1], output_dim=1).cuda()"
   ]
  },
  {
   "cell_type": "code",
   "execution_count": null,
   "id": "bc0361f9",
   "metadata": {
    "scrolled": false
   },
   "outputs": [],
   "source": [
    "lr = 0.001\n",
    "epochs = 30\n",
    "losses_tr = []\n",
    "losses_te = []\n",
    "for epoch in range(epochs):\n",
    "    loss_tr = trainRNN(encoder, decoder, loader_K2vec_tr, lr)\n",
    "    loss_te = validRNN(encoder, decoder, loader_K2vec_te)\n",
    "    \n",
    "    losses_tr.append(loss_tr)\n",
    "    losses_te.append(loss_te)\n",
    "    \n",
    "    print(f\"[{epoch:02d}/{epochs}] loss_tr: {loss_tr}\\tloss_te:{loss_te:.4f}\")"
   ]
  },
  {
   "cell_type": "markdown",
   "id": "a0c1edeb",
   "metadata": {},
   "source": [
    "### Train with raw knob"
   ]
  },
  {
   "cell_type": "code",
   "execution_count": null,
   "id": "3857a756",
   "metadata": {},
   "outputs": [],
   "source": [
    "knob_norm_tr = torch.Tensor(scaler_knob.transform(knob_tr)).cuda()\n",
    "knob_norm_te = torch.Tensor(scaler_knob.transform(knob_te)).cuda()\n",
    "\n",
    "Dataset_knob_tr = RocksDBDataset(knob_norm_tr, y_norm_tr)\n",
    "Dataset_knob_te = RocksDBDataset(knob_norm_te, y_norm_te)\n",
    "\n",
    "loader_knob_tr = DataLoader(dataset = Dataset_knob_tr, batch_size = 32, shuffle=True)\n",
    "loader_knob_te = DataLoader(dataset = Dataset_knob_te, batch_size = 32, shuffle=True)"
   ]
  },
  {
   "cell_type": "code",
   "execution_count": null,
   "id": "39e93d96",
   "metadata": {},
   "outputs": [],
   "source": [
    "knob_model = SingleNet(input_dim=knob_norm_tr.shape[1], hidden_dim=16, output_dim=4).cuda()"
   ]
  },
  {
   "cell_type": "code",
   "execution_count": null,
   "id": "8ec51bcc",
   "metadata": {},
   "outputs": [],
   "source": [
    "lr = 0.001\n",
    "epochs = 30\n",
    "losses_tr = []\n",
    "losses_te = []\n",
    "for epoch in range(epochs):\n",
    "    loss_tr = train(knob_model, loader_knob_tr, lr)\n",
    "    loss_te = valid(knob_model, loader_knob_te)\n",
    "    \n",
    "    losses_tr.append(loss_tr)\n",
    "    losses_te.append(loss_te)\n",
    "    \n",
    "    print(f\"[{epoch:02d}/{epochs}] loss_tr: {loss_tr}\\tloss_te:{loss_te:.4f}\")"
   ]
  },
  {
   "cell_type": "code",
   "execution_count": null,
   "id": "3c921e7e",
   "metadata": {
    "scrolled": false
   },
   "outputs": [],
   "source": [
    "pd.DataFrame(scaler_y.inverse_transform(y_norm_te.cpu().detach().numpy()))"
   ]
  },
  {
   "cell_type": "code",
   "execution_count": null,
   "id": "d626e2b3",
   "metadata": {
    "scrolled": false
   },
   "outputs": [],
   "source": [
    "pd.DataFrame(scaler_y.inverse_transform(model(K2vec_te).cpu().detach().numpy()))"
   ]
  },
  {
   "cell_type": "code",
   "execution_count": null,
   "id": "7f8c6404",
   "metadata": {},
   "outputs": [],
   "source": [
    "_30 = scaler_y.inverse_transform(knob_model(knob_norm_te).cpu().detach().numpy()) # 30\n",
    "_30"
   ]
  },
  {
   "cell_type": "code",
   "execution_count": null,
   "id": "2664c6d0",
   "metadata": {},
   "outputs": [],
   "source": [
    "pd.DataFrame(_30)"
   ]
  },
  {
   "cell_type": "code",
   "execution_count": null,
   "id": "28d8b4d5",
   "metadata": {
    "scrolled": false
   },
   "outputs": [],
   "source": [
    "pd.DataFrame(scaler_y.inverse_transform(knob_model(knob_norm_te).cpu().detach().numpy())) # 60"
   ]
  },
  {
   "cell_type": "code",
   "execution_count": null,
   "id": "1cd00179",
   "metadata": {},
   "outputs": [],
   "source": []
  }
 ],
 "metadata": {
  "kernelspec": {
   "display_name": "[py3.7]",
   "language": "python",
   "name": "py3.7"
  },
  "language_info": {
   "codemirror_mode": {
    "name": "ipython",
    "version": 3
   },
   "file_extension": ".py",
   "mimetype": "text/x-python",
   "name": "python",
   "nbconvert_exporter": "python",
   "pygments_lexer": "ipython3",
   "version": "3.7.11"
  }
 },
 "nbformat": 4,
 "nbformat_minor": 5
}
