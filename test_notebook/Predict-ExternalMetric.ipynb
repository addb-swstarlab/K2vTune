{
 "cells": [
  {
   "cell_type": "code",
   "execution_count": 1,
   "id": "497a5903",
   "metadata": {},
   "outputs": [],
   "source": [
    "import pandas as pd\n",
    "import numpy as np\n",
    "import os, sys\n",
    "import matplotlib.pyplot as plt\n",
    "import seaborn as sns\n",
    "import torch\n",
    "import json\n",
    "sys.path.append('../')\n",
    "from models.utils import rocksdb_knobs_make_dict"
   ]
  },
  {
   "cell_type": "code",
   "execution_count": 27,
   "id": "ba93fb87",
   "metadata": {},
   "outputs": [
    {
     "data": {
      "text/plain": [
       "torch.Size([2, 1, 4])"
      ]
     },
     "execution_count": 27,
     "metadata": {},
     "output_type": "execute_result"
    }
   ],
   "source": [
    "a[:,1,:].unsqueeze(1).shape"
   ]
  },
  {
   "cell_type": "code",
   "execution_count": 23,
   "id": "c586183f",
   "metadata": {},
   "outputs": [],
   "source": [
    "a = torch.randn((2,3,4))"
   ]
  },
  {
   "cell_type": "code",
   "execution_count": 5,
   "id": "1a34fcc6",
   "metadata": {},
   "outputs": [],
   "source": [
    "PATH_internal = \"../data/internal\"\n",
    "PATH_external = \"../data/external\"\n",
    "PATH_knobs = \"../data/rocksdb_conf\"\n",
    "wk_len = 16"
   ]
  },
  {
   "cell_type": "code",
   "execution_count": 3,
   "id": "d3c05bc4",
   "metadata": {},
   "outputs": [
    {
     "data": {
      "text/html": [
       "<div>\n",
       "<style scoped>\n",
       "    .dataframe tbody tr th:only-of-type {\n",
       "        vertical-align: middle;\n",
       "    }\n",
       "\n",
       "    .dataframe tbody tr th {\n",
       "        vertical-align: top;\n",
       "    }\n",
       "\n",
       "    .dataframe thead th {\n",
       "        text-align: right;\n",
       "    }\n",
       "</style>\n",
       "<table border=\"1\" class=\"dataframe\">\n",
       "  <thead>\n",
       "    <tr style=\"text-align: right;\">\n",
       "      <th></th>\n",
       "      <th>max_background_compactions</th>\n",
       "      <th>max_background_flushes</th>\n",
       "      <th>write_buffer_size</th>\n",
       "      <th>max_write_buffer_number</th>\n",
       "      <th>min_write_buffer_number_to_merge</th>\n",
       "      <th>compaction_pri</th>\n",
       "      <th>compaction_style</th>\n",
       "      <th>level0_file_num_compaction_trigger</th>\n",
       "      <th>level0_slowdown_writes_trigger</th>\n",
       "      <th>level0_stop_writes_trigger</th>\n",
       "      <th>...</th>\n",
       "      <th>open_files</th>\n",
       "      <th>block_size</th>\n",
       "      <th>cache_index_and_filter_blocks</th>\n",
       "      <th>max_bytes_for_level_base</th>\n",
       "      <th>max_bytes_for_level_multiplier</th>\n",
       "      <th>target_file_size_base</th>\n",
       "      <th>target_file_size_multiplier</th>\n",
       "      <th>num_levels</th>\n",
       "      <th>memtable_bloom_size_ratio</th>\n",
       "      <th>compression_ratio</th>\n",
       "    </tr>\n",
       "  </thead>\n",
       "  <tbody>\n",
       "    <tr>\n",
       "      <th>0</th>\n",
       "      <td>6.0</td>\n",
       "      <td>16.0</td>\n",
       "      <td>1304576.0</td>\n",
       "      <td>3.0</td>\n",
       "      <td>2.0</td>\n",
       "      <td>1.0</td>\n",
       "      <td>0.0</td>\n",
       "      <td>3.0</td>\n",
       "      <td>24.0</td>\n",
       "      <td>44.0</td>\n",
       "      <td>...</td>\n",
       "      <td>10000.0</td>\n",
       "      <td>9216.0</td>\n",
       "      <td>0.0</td>\n",
       "      <td>5242880.0</td>\n",
       "      <td>11.0</td>\n",
       "      <td>1800192.0</td>\n",
       "      <td>1.0</td>\n",
       "      <td>8.0</td>\n",
       "      <td>0.10</td>\n",
       "      <td>0.67</td>\n",
       "    </tr>\n",
       "    <tr>\n",
       "      <th>1</th>\n",
       "      <td>2.0</td>\n",
       "      <td>14.0</td>\n",
       "      <td>911360.0</td>\n",
       "      <td>6.0</td>\n",
       "      <td>2.0</td>\n",
       "      <td>0.0</td>\n",
       "      <td>0.0</td>\n",
       "      <td>7.0</td>\n",
       "      <td>18.0</td>\n",
       "      <td>55.0</td>\n",
       "      <td>...</td>\n",
       "      <td>100000.0</td>\n",
       "      <td>15360.0</td>\n",
       "      <td>1.0</td>\n",
       "      <td>3145728.0</td>\n",
       "      <td>10.0</td>\n",
       "      <td>1729536.0</td>\n",
       "      <td>1.0</td>\n",
       "      <td>5.0</td>\n",
       "      <td>0.15</td>\n",
       "      <td>0.50</td>\n",
       "    </tr>\n",
       "    <tr>\n",
       "      <th>2</th>\n",
       "      <td>8.0</td>\n",
       "      <td>6.0</td>\n",
       "      <td>1474560.0</td>\n",
       "      <td>6.0</td>\n",
       "      <td>1.0</td>\n",
       "      <td>2.0</td>\n",
       "      <td>0.0</td>\n",
       "      <td>5.0</td>\n",
       "      <td>18.0</td>\n",
       "      <td>48.0</td>\n",
       "      <td>...</td>\n",
       "      <td>1000000.0</td>\n",
       "      <td>6144.0</td>\n",
       "      <td>0.0</td>\n",
       "      <td>4194304.0</td>\n",
       "      <td>9.0</td>\n",
       "      <td>1429504.0</td>\n",
       "      <td>1.0</td>\n",
       "      <td>6.0</td>\n",
       "      <td>0.05</td>\n",
       "      <td>0.36</td>\n",
       "    </tr>\n",
       "    <tr>\n",
       "      <th>3</th>\n",
       "      <td>12.0</td>\n",
       "      <td>8.0</td>\n",
       "      <td>550912.0</td>\n",
       "      <td>7.0</td>\n",
       "      <td>1.0</td>\n",
       "      <td>3.0</td>\n",
       "      <td>0.0</td>\n",
       "      <td>4.0</td>\n",
       "      <td>18.0</td>\n",
       "      <td>35.0</td>\n",
       "      <td>...</td>\n",
       "      <td>10000.0</td>\n",
       "      <td>3072.0</td>\n",
       "      <td>1.0</td>\n",
       "      <td>2097152.0</td>\n",
       "      <td>11.0</td>\n",
       "      <td>900096.0</td>\n",
       "      <td>1.0</td>\n",
       "      <td>7.0</td>\n",
       "      <td>0.05</td>\n",
       "      <td>0.63</td>\n",
       "    </tr>\n",
       "  </tbody>\n",
       "</table>\n",
       "<p>4 rows × 22 columns</p>\n",
       "</div>"
      ],
      "text/plain": [
       "   max_background_compactions  max_background_flushes  write_buffer_size  \\\n",
       "0                         6.0                    16.0          1304576.0   \n",
       "1                         2.0                    14.0           911360.0   \n",
       "2                         8.0                     6.0          1474560.0   \n",
       "3                        12.0                     8.0           550912.0   \n",
       "\n",
       "   max_write_buffer_number  min_write_buffer_number_to_merge  compaction_pri  \\\n",
       "0                      3.0                               2.0             1.0   \n",
       "1                      6.0                               2.0             0.0   \n",
       "2                      6.0                               1.0             2.0   \n",
       "3                      7.0                               1.0             3.0   \n",
       "\n",
       "   compaction_style  level0_file_num_compaction_trigger  \\\n",
       "0               0.0                                 3.0   \n",
       "1               0.0                                 7.0   \n",
       "2               0.0                                 5.0   \n",
       "3               0.0                                 4.0   \n",
       "\n",
       "   level0_slowdown_writes_trigger  level0_stop_writes_trigger  ...  \\\n",
       "0                            24.0                        44.0  ...   \n",
       "1                            18.0                        55.0  ...   \n",
       "2                            18.0                        48.0  ...   \n",
       "3                            18.0                        35.0  ...   \n",
       "\n",
       "   open_files  block_size  cache_index_and_filter_blocks  \\\n",
       "0     10000.0      9216.0                            0.0   \n",
       "1    100000.0     15360.0                            1.0   \n",
       "2   1000000.0      6144.0                            0.0   \n",
       "3     10000.0      3072.0                            1.0   \n",
       "\n",
       "   max_bytes_for_level_base  max_bytes_for_level_multiplier  \\\n",
       "0                 5242880.0                            11.0   \n",
       "1                 3145728.0                            10.0   \n",
       "2                 4194304.0                             9.0   \n",
       "3                 2097152.0                            11.0   \n",
       "\n",
       "   target_file_size_base  target_file_size_multiplier  num_levels  \\\n",
       "0              1800192.0                          1.0         8.0   \n",
       "1              1729536.0                          1.0         5.0   \n",
       "2              1429504.0                          1.0         6.0   \n",
       "3               900096.0                          1.0         7.0   \n",
       "\n",
       "   memtable_bloom_size_ratio  compression_ratio  \n",
       "0                       0.10               0.67  \n",
       "1                       0.15               0.50  \n",
       "2                       0.05               0.36  \n",
       "3                       0.05               0.63  \n",
       "\n",
       "[4 rows x 22 columns]"
      ]
     },
     "execution_count": 3,
     "metadata": {},
     "output_type": "execute_result"
    }
   ],
   "source": [
    "knobs = rocksdb_knobs_make_dict(PATH_knobs)\n",
    "knobs = pd.DataFrame(data=knobs['data'].astype(np.float32), columns=knobs['columnlabels'])\n",
    "columns = knobs.columns\n",
    "knobs.head(4)"
   ]
  },
  {
   "cell_type": "code",
   "execution_count": 7,
   "id": "d362eecc",
   "metadata": {},
   "outputs": [
    {
     "data": {
      "text/html": [
       "<div>\n",
       "<style scoped>\n",
       "    .dataframe tbody tr th:only-of-type {\n",
       "        vertical-align: middle;\n",
       "    }\n",
       "\n",
       "    .dataframe tbody tr th {\n",
       "        vertical-align: top;\n",
       "    }\n",
       "\n",
       "    .dataframe thead th {\n",
       "        text-align: right;\n",
       "    }\n",
       "</style>\n",
       "<table border=\"1\" class=\"dataframe\">\n",
       "  <thead>\n",
       "    <tr style=\"text-align: right;\">\n",
       "      <th></th>\n",
       "      <th>rocksdb.block.cache.miss COUNT</th>\n",
       "      <th>rocksdb.block.cache.hit COUNT</th>\n",
       "      <th>rocksdb.block.cache.add COUNT</th>\n",
       "      <th>rocksdb.block.cache.index.miss COUNT</th>\n",
       "      <th>rocksdb.block.cache.index.hit COUNT</th>\n",
       "      <th>rocksdb.block.cache.index.add COUNT</th>\n",
       "      <th>rocksdb.block.cache.index.bytes.insert COUNT</th>\n",
       "      <th>rocksdb.block.cache.data.miss COUNT</th>\n",
       "      <th>rocksdb.block.cache.data.hit COUNT</th>\n",
       "      <th>rocksdb.block.cache.data.add COUNT</th>\n",
       "      <th>...</th>\n",
       "      <th>rocksdb.bytes.decompressed_P99</th>\n",
       "      <th>rocksdb.bytes.decompressed_P100</th>\n",
       "      <th>rocksdb.bytes.decompressed_COUNT</th>\n",
       "      <th>rocksdb.bytes.decompressed_SUM</th>\n",
       "      <th>rocksdb.db.flush.micros_P50</th>\n",
       "      <th>rocksdb.db.flush.micros_P95</th>\n",
       "      <th>rocksdb.db.flush.micros_P99</th>\n",
       "      <th>rocksdb.db.flush.micros_P100</th>\n",
       "      <th>rocksdb.db.flush.micros_COUNT</th>\n",
       "      <th>rocksdb.db.flush.micros_SUM</th>\n",
       "    </tr>\n",
       "    <tr>\n",
       "      <th>index</th>\n",
       "      <th></th>\n",
       "      <th></th>\n",
       "      <th></th>\n",
       "      <th></th>\n",
       "      <th></th>\n",
       "      <th></th>\n",
       "      <th></th>\n",
       "      <th></th>\n",
       "      <th></th>\n",
       "      <th></th>\n",
       "      <th></th>\n",
       "      <th></th>\n",
       "      <th></th>\n",
       "      <th></th>\n",
       "      <th></th>\n",
       "      <th></th>\n",
       "      <th></th>\n",
       "      <th></th>\n",
       "      <th></th>\n",
       "      <th></th>\n",
       "      <th></th>\n",
       "    </tr>\n",
       "  </thead>\n",
       "  <tbody>\n",
       "    <tr>\n",
       "      <th>/home/jieun/data_generation_rocksdb/rocksdb_conf/config1.cnf</th>\n",
       "      <td>1296845</td>\n",
       "      <td>1172926</td>\n",
       "      <td>1213729</td>\n",
       "      <td>0</td>\n",
       "      <td>0</td>\n",
       "      <td>0</td>\n",
       "      <td>0</td>\n",
       "      <td>1296845</td>\n",
       "      <td>1172926</td>\n",
       "      <td>1213729</td>\n",
       "      <td>...</td>\n",
       "      <td>8383.000000</td>\n",
       "      <td>8383.0</td>\n",
       "      <td>1297251</td>\n",
       "      <td>10856979511</td>\n",
       "      <td>21652.173913</td>\n",
       "      <td>30615.000000</td>\n",
       "      <td>30615.0</td>\n",
       "      <td>30615.0</td>\n",
       "      <td>44</td>\n",
       "      <td>1015663</td>\n",
       "    </tr>\n",
       "    <tr>\n",
       "      <th>/home/jieun/data_generation_rocksdb/rocksdb_conf/config2.cnf</th>\n",
       "      <td>1304820</td>\n",
       "      <td>4192080</td>\n",
       "      <td>1256074</td>\n",
       "      <td>1582</td>\n",
       "      <td>2701880</td>\n",
       "      <td>1582</td>\n",
       "      <td>5078096</td>\n",
       "      <td>1303238</td>\n",
       "      <td>1490200</td>\n",
       "      <td>1254492</td>\n",
       "      <td>...</td>\n",
       "      <td>14659.000000</td>\n",
       "      <td>14659.0</td>\n",
       "      <td>1304820</td>\n",
       "      <td>19074632333</td>\n",
       "      <td>18135.593220</td>\n",
       "      <td>21979.661017</td>\n",
       "      <td>26561.0</td>\n",
       "      <td>26561.0</td>\n",
       "      <td>63</td>\n",
       "      <td>1074316</td>\n",
       "    </tr>\n",
       "    <tr>\n",
       "      <th>/home/jieun/data_generation_rocksdb/rocksdb_conf/config3.cnf</th>\n",
       "      <td>1407632</td>\n",
       "      <td>2195141</td>\n",
       "      <td>1315590</td>\n",
       "      <td>0</td>\n",
       "      <td>0</td>\n",
       "      <td>0</td>\n",
       "      <td>0</td>\n",
       "      <td>1407632</td>\n",
       "      <td>2195141</td>\n",
       "      <td>1315590</td>\n",
       "      <td>...</td>\n",
       "      <td>6578.256132</td>\n",
       "      <td>12483.0</td>\n",
       "      <td>1407897</td>\n",
       "      <td>8847109704</td>\n",
       "      <td>29660.714286</td>\n",
       "      <td>45820.000000</td>\n",
       "      <td>45820.0</td>\n",
       "      <td>45820.0</td>\n",
       "      <td>78</td>\n",
       "      <td>2692570</td>\n",
       "    </tr>\n",
       "    <tr>\n",
       "      <th>/home/jieun/data_generation_rocksdb/rocksdb_conf/config4.cnf</th>\n",
       "      <td>1497592</td>\n",
       "      <td>7007880</td>\n",
       "      <td>1252738</td>\n",
       "      <td>974</td>\n",
       "      <td>4003817</td>\n",
       "      <td>974</td>\n",
       "      <td>6993856</td>\n",
       "      <td>1496618</td>\n",
       "      <td>3004063</td>\n",
       "      <td>1251764</td>\n",
       "      <td>...</td>\n",
       "      <td>4385.648850</td>\n",
       "      <td>9451.0</td>\n",
       "      <td>1497592</td>\n",
       "      <td>4718848784</td>\n",
       "      <td>24646.616541</td>\n",
       "      <td>32387.969925</td>\n",
       "      <td>34773.0</td>\n",
       "      <td>34773.0</td>\n",
       "      <td>208</td>\n",
       "      <td>5221234</td>\n",
       "    </tr>\n",
       "  </tbody>\n",
       "</table>\n",
       "<p>4 rows × 148 columns</p>\n",
       "</div>"
      ],
      "text/plain": [
       "                                                    rocksdb.block.cache.miss COUNT  \\\n",
       "index                                                                                \n",
       "/home/jieun/data_generation_rocksdb/rocksdb_con...                         1296845   \n",
       "/home/jieun/data_generation_rocksdb/rocksdb_con...                         1304820   \n",
       "/home/jieun/data_generation_rocksdb/rocksdb_con...                         1407632   \n",
       "/home/jieun/data_generation_rocksdb/rocksdb_con...                         1497592   \n",
       "\n",
       "                                                    rocksdb.block.cache.hit COUNT  \\\n",
       "index                                                                               \n",
       "/home/jieun/data_generation_rocksdb/rocksdb_con...                        1172926   \n",
       "/home/jieun/data_generation_rocksdb/rocksdb_con...                        4192080   \n",
       "/home/jieun/data_generation_rocksdb/rocksdb_con...                        2195141   \n",
       "/home/jieun/data_generation_rocksdb/rocksdb_con...                        7007880   \n",
       "\n",
       "                                                    rocksdb.block.cache.add COUNT  \\\n",
       "index                                                                               \n",
       "/home/jieun/data_generation_rocksdb/rocksdb_con...                        1213729   \n",
       "/home/jieun/data_generation_rocksdb/rocksdb_con...                        1256074   \n",
       "/home/jieun/data_generation_rocksdb/rocksdb_con...                        1315590   \n",
       "/home/jieun/data_generation_rocksdb/rocksdb_con...                        1252738   \n",
       "\n",
       "                                                    rocksdb.block.cache.index.miss COUNT  \\\n",
       "index                                                                                      \n",
       "/home/jieun/data_generation_rocksdb/rocksdb_con...                                     0   \n",
       "/home/jieun/data_generation_rocksdb/rocksdb_con...                                  1582   \n",
       "/home/jieun/data_generation_rocksdb/rocksdb_con...                                     0   \n",
       "/home/jieun/data_generation_rocksdb/rocksdb_con...                                   974   \n",
       "\n",
       "                                                    rocksdb.block.cache.index.hit COUNT  \\\n",
       "index                                                                                     \n",
       "/home/jieun/data_generation_rocksdb/rocksdb_con...                                    0   \n",
       "/home/jieun/data_generation_rocksdb/rocksdb_con...                              2701880   \n",
       "/home/jieun/data_generation_rocksdb/rocksdb_con...                                    0   \n",
       "/home/jieun/data_generation_rocksdb/rocksdb_con...                              4003817   \n",
       "\n",
       "                                                    rocksdb.block.cache.index.add COUNT  \\\n",
       "index                                                                                     \n",
       "/home/jieun/data_generation_rocksdb/rocksdb_con...                                    0   \n",
       "/home/jieun/data_generation_rocksdb/rocksdb_con...                                 1582   \n",
       "/home/jieun/data_generation_rocksdb/rocksdb_con...                                    0   \n",
       "/home/jieun/data_generation_rocksdb/rocksdb_con...                                  974   \n",
       "\n",
       "                                                    rocksdb.block.cache.index.bytes.insert COUNT  \\\n",
       "index                                                                                              \n",
       "/home/jieun/data_generation_rocksdb/rocksdb_con...                                             0   \n",
       "/home/jieun/data_generation_rocksdb/rocksdb_con...                                       5078096   \n",
       "/home/jieun/data_generation_rocksdb/rocksdb_con...                                             0   \n",
       "/home/jieun/data_generation_rocksdb/rocksdb_con...                                       6993856   \n",
       "\n",
       "                                                    rocksdb.block.cache.data.miss COUNT  \\\n",
       "index                                                                                     \n",
       "/home/jieun/data_generation_rocksdb/rocksdb_con...                              1296845   \n",
       "/home/jieun/data_generation_rocksdb/rocksdb_con...                              1303238   \n",
       "/home/jieun/data_generation_rocksdb/rocksdb_con...                              1407632   \n",
       "/home/jieun/data_generation_rocksdb/rocksdb_con...                              1496618   \n",
       "\n",
       "                                                    rocksdb.block.cache.data.hit COUNT  \\\n",
       "index                                                                                    \n",
       "/home/jieun/data_generation_rocksdb/rocksdb_con...                             1172926   \n",
       "/home/jieun/data_generation_rocksdb/rocksdb_con...                             1490200   \n",
       "/home/jieun/data_generation_rocksdb/rocksdb_con...                             2195141   \n",
       "/home/jieun/data_generation_rocksdb/rocksdb_con...                             3004063   \n",
       "\n",
       "                                                    rocksdb.block.cache.data.add COUNT  \\\n",
       "index                                                                                    \n",
       "/home/jieun/data_generation_rocksdb/rocksdb_con...                             1213729   \n",
       "/home/jieun/data_generation_rocksdb/rocksdb_con...                             1254492   \n",
       "/home/jieun/data_generation_rocksdb/rocksdb_con...                             1315590   \n",
       "/home/jieun/data_generation_rocksdb/rocksdb_con...                             1251764   \n",
       "\n",
       "                                                    ...  \\\n",
       "index                                               ...   \n",
       "/home/jieun/data_generation_rocksdb/rocksdb_con...  ...   \n",
       "/home/jieun/data_generation_rocksdb/rocksdb_con...  ...   \n",
       "/home/jieun/data_generation_rocksdb/rocksdb_con...  ...   \n",
       "/home/jieun/data_generation_rocksdb/rocksdb_con...  ...   \n",
       "\n",
       "                                                    rocksdb.bytes.decompressed_P99  \\\n",
       "index                                                                                \n",
       "/home/jieun/data_generation_rocksdb/rocksdb_con...                     8383.000000   \n",
       "/home/jieun/data_generation_rocksdb/rocksdb_con...                    14659.000000   \n",
       "/home/jieun/data_generation_rocksdb/rocksdb_con...                     6578.256132   \n",
       "/home/jieun/data_generation_rocksdb/rocksdb_con...                     4385.648850   \n",
       "\n",
       "                                                    rocksdb.bytes.decompressed_P100  \\\n",
       "index                                                                                 \n",
       "/home/jieun/data_generation_rocksdb/rocksdb_con...                           8383.0   \n",
       "/home/jieun/data_generation_rocksdb/rocksdb_con...                          14659.0   \n",
       "/home/jieun/data_generation_rocksdb/rocksdb_con...                          12483.0   \n",
       "/home/jieun/data_generation_rocksdb/rocksdb_con...                           9451.0   \n",
       "\n",
       "                                                    rocksdb.bytes.decompressed_COUNT  \\\n",
       "index                                                                                  \n",
       "/home/jieun/data_generation_rocksdb/rocksdb_con...                           1297251   \n",
       "/home/jieun/data_generation_rocksdb/rocksdb_con...                           1304820   \n",
       "/home/jieun/data_generation_rocksdb/rocksdb_con...                           1407897   \n",
       "/home/jieun/data_generation_rocksdb/rocksdb_con...                           1497592   \n",
       "\n",
       "                                                    rocksdb.bytes.decompressed_SUM  \\\n",
       "index                                                                                \n",
       "/home/jieun/data_generation_rocksdb/rocksdb_con...                     10856979511   \n",
       "/home/jieun/data_generation_rocksdb/rocksdb_con...                     19074632333   \n",
       "/home/jieun/data_generation_rocksdb/rocksdb_con...                      8847109704   \n",
       "/home/jieun/data_generation_rocksdb/rocksdb_con...                      4718848784   \n",
       "\n",
       "                                                    rocksdb.db.flush.micros_P50  \\\n",
       "index                                                                             \n",
       "/home/jieun/data_generation_rocksdb/rocksdb_con...                 21652.173913   \n",
       "/home/jieun/data_generation_rocksdb/rocksdb_con...                 18135.593220   \n",
       "/home/jieun/data_generation_rocksdb/rocksdb_con...                 29660.714286   \n",
       "/home/jieun/data_generation_rocksdb/rocksdb_con...                 24646.616541   \n",
       "\n",
       "                                                    rocksdb.db.flush.micros_P95  \\\n",
       "index                                                                             \n",
       "/home/jieun/data_generation_rocksdb/rocksdb_con...                 30615.000000   \n",
       "/home/jieun/data_generation_rocksdb/rocksdb_con...                 21979.661017   \n",
       "/home/jieun/data_generation_rocksdb/rocksdb_con...                 45820.000000   \n",
       "/home/jieun/data_generation_rocksdb/rocksdb_con...                 32387.969925   \n",
       "\n",
       "                                                    rocksdb.db.flush.micros_P99  \\\n",
       "index                                                                             \n",
       "/home/jieun/data_generation_rocksdb/rocksdb_con...                      30615.0   \n",
       "/home/jieun/data_generation_rocksdb/rocksdb_con...                      26561.0   \n",
       "/home/jieun/data_generation_rocksdb/rocksdb_con...                      45820.0   \n",
       "/home/jieun/data_generation_rocksdb/rocksdb_con...                      34773.0   \n",
       "\n",
       "                                                    rocksdb.db.flush.micros_P100  \\\n",
       "index                                                                              \n",
       "/home/jieun/data_generation_rocksdb/rocksdb_con...                       30615.0   \n",
       "/home/jieun/data_generation_rocksdb/rocksdb_con...                       26561.0   \n",
       "/home/jieun/data_generation_rocksdb/rocksdb_con...                       45820.0   \n",
       "/home/jieun/data_generation_rocksdb/rocksdb_con...                       34773.0   \n",
       "\n",
       "                                                    rocksdb.db.flush.micros_COUNT  \\\n",
       "index                                                                               \n",
       "/home/jieun/data_generation_rocksdb/rocksdb_con...                             44   \n",
       "/home/jieun/data_generation_rocksdb/rocksdb_con...                             63   \n",
       "/home/jieun/data_generation_rocksdb/rocksdb_con...                             78   \n",
       "/home/jieun/data_generation_rocksdb/rocksdb_con...                            208   \n",
       "\n",
       "                                                    rocksdb.db.flush.micros_SUM  \n",
       "index                                                                            \n",
       "/home/jieun/data_generation_rocksdb/rocksdb_con...                      1015663  \n",
       "/home/jieun/data_generation_rocksdb/rocksdb_con...                      1074316  \n",
       "/home/jieun/data_generation_rocksdb/rocksdb_con...                      2692570  \n",
       "/home/jieun/data_generation_rocksdb/rocksdb_con...                      5221234  \n",
       "\n",
       "[4 rows x 148 columns]"
      ]
     },
     "execution_count": 7,
     "metadata": {},
     "output_type": "execute_result"
    }
   ],
   "source": [
    "wk_len = 16\n",
    "internal_dict = {}\n",
    "\n",
    "pruned_im = pd.read_csv(os.path.join(PATH_internal, 'internal_ensemble_pruned_tmp.csv'), index_col=0)\n",
    "for wk in range(wk_len):\n",
    "    im = pd.read_csv(os.path.join(PATH_internal, f'internal_results_{wk}.csv'), index_col=0)\n",
    "    internal_dict[wk] = im[pruned_im.columns]\n",
    "    break\n",
    "internal_dict[0].head(4)"
   ]
  },
  {
   "cell_type": "code",
   "execution_count": 8,
   "id": "88bc584d",
   "metadata": {},
   "outputs": [
    {
     "data": {
      "text/html": [
       "<div>\n",
       "<style scoped>\n",
       "    .dataframe tbody tr th:only-of-type {\n",
       "        vertical-align: middle;\n",
       "    }\n",
       "\n",
       "    .dataframe tbody tr th {\n",
       "        vertical-align: top;\n",
       "    }\n",
       "\n",
       "    .dataframe thead th {\n",
       "        text-align: right;\n",
       "    }\n",
       "</style>\n",
       "<table border=\"1\" class=\"dataframe\">\n",
       "  <thead>\n",
       "    <tr style=\"text-align: right;\">\n",
       "      <th></th>\n",
       "      <th>TIME</th>\n",
       "      <th>RATE</th>\n",
       "      <th>WAF</th>\n",
       "      <th>SA</th>\n",
       "    </tr>\n",
       "    <tr>\n",
       "      <th>index</th>\n",
       "      <th></th>\n",
       "      <th></th>\n",
       "      <th></th>\n",
       "      <th></th>\n",
       "    </tr>\n",
       "  </thead>\n",
       "  <tbody>\n",
       "    <tr>\n",
       "      <th>/home/jieun/data_generation_rocksdb/rocksdb_conf/config1.cnf</th>\n",
       "      <td>21.8</td>\n",
       "      <td>4.77</td>\n",
       "      <td>8.7</td>\n",
       "      <td>72.17</td>\n",
       "    </tr>\n",
       "    <tr>\n",
       "      <th>/home/jieun/data_generation_rocksdb/rocksdb_conf/config2.cnf</th>\n",
       "      <td>25.9</td>\n",
       "      <td>4.02</td>\n",
       "      <td>8.9</td>\n",
       "      <td>55.83</td>\n",
       "    </tr>\n",
       "    <tr>\n",
       "      <th>/home/jieun/data_generation_rocksdb/rocksdb_conf/config3.cnf</th>\n",
       "      <td>52.0</td>\n",
       "      <td>2.00</td>\n",
       "      <td>7.5</td>\n",
       "      <td>34.21</td>\n",
       "    </tr>\n",
       "    <tr>\n",
       "      <th>/home/jieun/data_generation_rocksdb/rocksdb_conf/config4.cnf</th>\n",
       "      <td>53.6</td>\n",
       "      <td>1.94</td>\n",
       "      <td>10.5</td>\n",
       "      <td>56.94</td>\n",
       "    </tr>\n",
       "  </tbody>\n",
       "</table>\n",
       "</div>"
      ],
      "text/plain": [
       "                                                    TIME  RATE   WAF     SA\n",
       "index                                                                      \n",
       "/home/jieun/data_generation_rocksdb/rocksdb_con...  21.8  4.77   8.7  72.17\n",
       "/home/jieun/data_generation_rocksdb/rocksdb_con...  25.9  4.02   8.9  55.83\n",
       "/home/jieun/data_generation_rocksdb/rocksdb_con...  52.0  2.00   7.5  34.21\n",
       "/home/jieun/data_generation_rocksdb/rocksdb_con...  53.6  1.94  10.5  56.94"
      ]
     },
     "execution_count": 8,
     "metadata": {},
     "output_type": "execute_result"
    }
   ],
   "source": [
    "external_dict = {}\n",
    "for wk in range(wk_len):\n",
    "    ex = pd.read_csv(os.path.join(PATH_external, f'external_results_{wk}.csv'), index_col=0)\n",
    "    external_dict[wk] = ex\n",
    "    break\n",
    "external_dict[0].head(4)"
   ]
  },
  {
   "cell_type": "markdown",
   "id": "aa739556",
   "metadata": {},
   "source": [
    "## Test Train\n",
    "- train: 16000, test: 4000\n",
    "- target: 0 th workload"
   ]
  },
  {
   "cell_type": "code",
   "execution_count": 13,
   "id": "48e90336",
   "metadata": {},
   "outputs": [],
   "source": [
    "from sklearn.model_selection import train_test_split\n",
    "from sklearn.preprocessing import MinMaxScaler, StandardScaler\n",
    "from torch.utils.data import Dataset, DataLoader\n",
    "from models.network import RocksDBDataset, SingleNet, EncoderRNN, DecoderRNN\n",
    "from models.train import train, valid, trainRNN, validRNN"
   ]
  },
  {
   "cell_type": "code",
   "execution_count": 12,
   "id": "6ed8b621",
   "metadata": {},
   "outputs": [
    {
     "data": {
      "text/plain": [
       "((20000, 3327), (20000, 148), (20000, 4))"
      ]
     },
     "execution_count": 12,
     "metadata": {},
     "output_type": "execute_result"
    }
   ],
   "source": [
    "knobOneHot = np.load('../data/knobsOneHot.npy')\n",
    "internal_m = internal_dict[0] # similar datasets\n",
    "external_m = external_dict[0] # similar datasets\n",
    "knobOneHot.shape, internal_m.shape, external_m.shape"
   ]
  },
  {
   "cell_type": "code",
   "execution_count": 14,
   "id": "420c7d8c",
   "metadata": {},
   "outputs": [
    {
     "data": {
      "text/plain": [
       "((16000, 3327),\n",
       " (4000, 3327),\n",
       " (16000, 148),\n",
       " (4000, 148),\n",
       " (16000, 4),\n",
       " (4000, 4),\n",
       " (16000, 22),\n",
       " (4000, 22))"
      ]
     },
     "execution_count": 14,
     "metadata": {},
     "output_type": "execute_result"
    }
   ],
   "source": [
    "X_tr, X_te, Im_tr, Im_te, y_tr, y_te, knob_tr, knob_te = \\\n",
    "            train_test_split(knobOneHot, internal_m, external_m, knobs, test_size=0.2, random_state=24)\n",
    "X_tr.shape, X_te.shape, Im_tr.shape, Im_te.shape, y_tr.shape, y_te.shape, knob_tr.shape, knob_te.shape"
   ]
  },
  {
   "cell_type": "code",
   "execution_count": 17,
   "id": "cb231188",
   "metadata": {},
   "outputs": [
    {
     "data": {
      "text/plain": [
       "(16000, 148)"
      ]
     },
     "execution_count": 17,
     "metadata": {},
     "output_type": "execute_result"
    }
   ],
   "source": [
    "Im_tr.shape"
   ]
  },
  {
   "cell_type": "markdown",
   "id": "f64ab563",
   "metadata": {},
   "source": [
    "### Pre-training"
   ]
  },
  {
   "cell_type": "code",
   "execution_count": 9,
   "id": "8a67cd6f",
   "metadata": {},
   "outputs": [],
   "source": [
    "scaler_X = MinMaxScaler().fit(X_tr) # range: 0~1\n",
    "scaler_knob = MinMaxScaler().fit(knob_tr)\n",
    "scaler_Im = MinMaxScaler().fit(Im_tr)\n",
    "scaler_y = StandardScaler().fit(y_tr)\n",
    "\n",
    "# X_norm_tr = torch.Tensor(scaler_X.transform(X_tr)).cuda()\n",
    "# X_norm_te = torch.Tensor(scaler_X.transform(X_te)).cuda()\n",
    "X_tr = torch.Tensor(X_tr).cuda()\n",
    "X_te = torch.Tensor(X_te).cuda()\n",
    "y_norm_tr = torch.Tensor(scaler_y.transform(y_tr)).cuda()\n",
    "y_norm_te = torch.Tensor(scaler_y.transform(y_te)).cuda()"
   ]
  },
  {
   "cell_type": "code",
   "execution_count": null,
   "id": "3636eadf",
   "metadata": {},
   "outputs": [],
   "source": [
    "Im_norm_tr = torch.Tensor(scaler_Im.transform(Im_tr)).cuda()\n",
    "Im_norm_te = torch.Tensor(scaler_Im.transform(Im_te)).cuda()\n",
    "Dataset_tr = RocksDBDataset(X_tr, Im_norm_tr)\n",
    "Dataset_te = RocksDBDataset(X_te, Im_norm_te)\n",
    "\n",
    "loader_tr = DataLoader(dataset = Dataset_tr, batch_size = 32, shuffle=True)\n",
    "loader_te = DataLoader(dataset = Dataset_te, batch_size = 32, shuffle=True)"
   ]
  },
  {
   "cell_type": "code",
   "execution_count": null,
   "id": "fc9afcc7",
   "metadata": {},
   "outputs": [],
   "source": [
    "k2i_model = SingleNet(input_dim=X_tr.shape[1], hidden_dim=1024, output_dim=148).cuda()"
   ]
  },
  {
   "cell_type": "code",
   "execution_count": null,
   "id": "a998a4a8",
   "metadata": {
    "scrolled": false
   },
   "outputs": [],
   "source": [
    "lr = 0.001\n",
    "epochs = 30\n",
    "losses_tr = []\n",
    "\n",
    "for epoch in range(epochs):\n",
    "    loss_tr = train(k2i_model, loader_tr, lr)\n",
    "    losses_tr.append(loss_tr)\n",
    "\n",
    "    print(f\"[{epoch:02d}/{epochs}] loss_tr: {loss_tr}\")\n",
    "        \n",
    "# print(f\"[{epoch:02d}/{epochs}] loss_tr: {loss_tr:.4f}\")"
   ]
  },
  {
   "cell_type": "markdown",
   "id": "922ffb5b",
   "metadata": {},
   "source": [
    "### Train with knob2vec"
   ]
  },
  {
   "cell_type": "code",
   "execution_count": 10,
   "id": "cad7e220",
   "metadata": {
    "scrolled": true
   },
   "outputs": [
    {
     "data": {
      "text/plain": [
       "(3327, 1024)"
      ]
     },
     "execution_count": 10,
     "metadata": {},
     "output_type": "execute_result"
    }
   ],
   "source": [
    "lookup_table = k2i_model.knob_fc[0].weight.T.cpu().detach().numpy()\n",
    "lookup_table = np.load('LookupTable.npy')\n",
    "lookup_table.shape"
   ]
  },
  {
   "cell_type": "code",
   "execution_count": 11,
   "id": "56fbef15",
   "metadata": {},
   "outputs": [],
   "source": [
    "# np.save('LookupTable.npy', lookup_table)"
   ]
  },
  {
   "cell_type": "code",
   "execution_count": 12,
   "id": "0e41d453",
   "metadata": {},
   "outputs": [],
   "source": [
    "def get_knob2vec(data, table):\n",
    "    k2vec = np.zeros((data.shape[0], 22, table.shape[1]))\n",
    "    for i in range(data.shape[0]):\n",
    "#         idx = (data[i]==1).nonzero().squeeze().cpu().detach().numpy()\n",
    "        idx = (data[i]==1).nonzero().squeeze().cpu().detach().numpy()\n",
    "        k2vec[i] = lookup_table[idx]\n",
    "    return k2vec"
   ]
  },
  {
   "cell_type": "code",
   "execution_count": null,
   "id": "7d46b3d3",
   "metadata": {},
   "outputs": [],
   "source": [
    "K2vec_tr = torch.Tensor(get_knob2vec(X_tr, lookup_table)).cuda()\n",
    "K2vec_tr = torch.reshape(K2vec_tr, (K2vec_tr.shape[0], -1))\n",
    "K2vec_te = torch.Tensor(get_knob2vec(X_te, lookup_table)).cuda()\n",
    "K2vec_te = torch.reshape(K2vec_te, (K2vec_te.shape[0], -1))\n",
    "\n",
    "Dataset_K2vec_tr = RocksDBDataset(K2vec_tr, y_norm_tr)\n",
    "Dataset_K2vec_te = RocksDBDataset(K2vec_te, y_norm_te)\n",
    "\n",
    "loader_K2vec_tr = DataLoader(dataset = Dataset_K2vec_tr, batch_size = 32, shuffle=True)\n",
    "loader_K2vec_te = DataLoader(dataset = Dataset_K2vec_te, batch_size = 32, shuffle=True)"
   ]
  },
  {
   "cell_type": "code",
   "execution_count": null,
   "id": "86605f99",
   "metadata": {},
   "outputs": [],
   "source": [
    "model = SingleNet(input_dim=K2vec_tr.shape[-1], hidden_dim=64, output_dim=4).cuda()"
   ]
  },
  {
   "cell_type": "code",
   "execution_count": null,
   "id": "566a6bff",
   "metadata": {
    "scrolled": true
   },
   "outputs": [],
   "source": [
    "lr = 0.001\n",
    "epochs = 30\n",
    "losses_tr = []\n",
    "losses_te = []\n",
    "for epoch in range(epochs):\n",
    "    loss_tr = train(model, loader_K2vec_tr, lr)\n",
    "    loss_te = valid(model, loader_K2vec_te)\n",
    "    \n",
    "    losses_tr.append(loss_tr)\n",
    "    losses_te.append(loss_te)\n",
    "    \n",
    "    print(f\"[{epoch:02d}/{epochs}] loss_tr: {loss_tr}\\tloss_te:{loss_te:.4f}\")"
   ]
  },
  {
   "cell_type": "markdown",
   "id": "e31d29a7",
   "metadata": {},
   "source": [
    "### Train with knob2vec and GRU"
   ]
  },
  {
   "cell_type": "code",
   "execution_count": 13,
   "id": "c0424634",
   "metadata": {},
   "outputs": [
    {
     "name": "stderr",
     "output_type": "stream",
     "text": [
      "/home/jieun/anaconda3/envs/py3.7/lib/python3.7/site-packages/ipykernel_launcher.py:5: UserWarning: This overload of nonzero is deprecated:\n",
      "\tnonzero()\n",
      "Consider using one of the following signatures instead:\n",
      "\tnonzero(*, bool as_tuple) (Triggered internally at  /opt/conda/conda-bld/pytorch_1603729047590/work/torch/csrc/utils/python_arg_parser.cpp:882.)\n",
      "  \"\"\"\n"
     ]
    }
   ],
   "source": [
    "K2vec_tr = torch.Tensor(get_knob2vec(X_tr, lookup_table)).cuda()\n",
    "K2vec_te = torch.Tensor(get_knob2vec(X_te, lookup_table)).cuda()\n",
    "\n",
    "Dataset_K2vec_tr = RocksDBDataset(K2vec_tr, y_norm_tr)\n",
    "Dataset_K2vec_te = RocksDBDataset(K2vec_te, y_norm_te)\n",
    "\n",
    "loader_K2vec_tr = DataLoader(dataset = Dataset_K2vec_tr, batch_size = 32, shuffle=True)\n",
    "loader_K2vec_te = DataLoader(dataset = Dataset_K2vec_te, batch_size = 32, shuffle=True)"
   ]
  },
  {
   "cell_type": "code",
   "execution_count": 14,
   "id": "f34a20c2",
   "metadata": {},
   "outputs": [],
   "source": [
    "encoder = EncoderRNN(hidden_dim=K2vec_tr.shape[-1]).cuda()\n",
    "decoder = DecoderRNN(hidden_dim=K2vec_tr.shape[-1], output_dim=1).cuda()"
   ]
  },
  {
   "cell_type": "code",
   "execution_count": 15,
   "id": "bc0361f9",
   "metadata": {
    "scrolled": false
   },
   "outputs": [
    {
     "ename": "RuntimeError",
     "evalue": "input must have 3 dimensions, got 2",
     "output_type": "error",
     "traceback": [
      "\u001b[0;31m---------------------------------------------------------------------------\u001b[0m",
      "\u001b[0;31mRuntimeError\u001b[0m                              Traceback (most recent call last)",
      "\u001b[0;32m/tmp/ipykernel_18637/4119071585.py\u001b[0m in \u001b[0;36m<module>\u001b[0;34m\u001b[0m\n\u001b[1;32m      4\u001b[0m \u001b[0mlosses_te\u001b[0m \u001b[0;34m=\u001b[0m \u001b[0;34m[\u001b[0m\u001b[0;34m]\u001b[0m\u001b[0;34m\u001b[0m\u001b[0;34m\u001b[0m\u001b[0m\n\u001b[1;32m      5\u001b[0m \u001b[0;32mfor\u001b[0m \u001b[0mepoch\u001b[0m \u001b[0;32min\u001b[0m \u001b[0mrange\u001b[0m\u001b[0;34m(\u001b[0m\u001b[0mepochs\u001b[0m\u001b[0;34m)\u001b[0m\u001b[0;34m:\u001b[0m\u001b[0;34m\u001b[0m\u001b[0;34m\u001b[0m\u001b[0m\n\u001b[0;32m----> 6\u001b[0;31m     \u001b[0mloss_tr\u001b[0m \u001b[0;34m=\u001b[0m \u001b[0mtrainRNN\u001b[0m\u001b[0;34m(\u001b[0m\u001b[0mencoder\u001b[0m\u001b[0;34m,\u001b[0m \u001b[0mdecoder\u001b[0m\u001b[0;34m,\u001b[0m \u001b[0mloader_K2vec_tr\u001b[0m\u001b[0;34m,\u001b[0m \u001b[0mlr\u001b[0m\u001b[0;34m)\u001b[0m\u001b[0;34m\u001b[0m\u001b[0;34m\u001b[0m\u001b[0m\n\u001b[0m\u001b[1;32m      7\u001b[0m     \u001b[0mloss_te\u001b[0m \u001b[0;34m=\u001b[0m \u001b[0mvalidRNN\u001b[0m\u001b[0;34m(\u001b[0m\u001b[0mencoder\u001b[0m\u001b[0;34m,\u001b[0m \u001b[0mdecoder\u001b[0m\u001b[0;34m,\u001b[0m \u001b[0mloader_K2vec_te\u001b[0m\u001b[0;34m)\u001b[0m\u001b[0;34m\u001b[0m\u001b[0;34m\u001b[0m\u001b[0m\n\u001b[1;32m      8\u001b[0m \u001b[0;34m\u001b[0m\u001b[0m\n",
      "\u001b[0;32m~/RocksDB_DATA/train.py\u001b[0m in \u001b[0;36mtrainRNN\u001b[0;34m(encoder, decoder, train_loader, lr, teacher_forcing)\u001b[0m\n\u001b[1;32m     72\u001b[0m         \u001b[0;32mfor\u001b[0m \u001b[0mei\u001b[0m \u001b[0;32min\u001b[0m \u001b[0mrange\u001b[0m\u001b[0;34m(\u001b[0m\u001b[0mdata\u001b[0m\u001b[0;34m.\u001b[0m\u001b[0mshape\u001b[0m\u001b[0;34m[\u001b[0m\u001b[0;36m1\u001b[0m\u001b[0;34m]\u001b[0m\u001b[0;34m)\u001b[0m\u001b[0;34m:\u001b[0m\u001b[0;34m\u001b[0m\u001b[0;34m\u001b[0m\u001b[0m\n\u001b[1;32m     73\u001b[0m             \u001b[0mencoder_intput\u001b[0m \u001b[0;34m=\u001b[0m \u001b[0mdata\u001b[0m\u001b[0;34m[\u001b[0m\u001b[0;34m:\u001b[0m\u001b[0;34m,\u001b[0m\u001b[0mei\u001b[0m\u001b[0;34m,\u001b[0m\u001b[0;34m:\u001b[0m\u001b[0;34m]\u001b[0m\u001b[0;34m\u001b[0m\u001b[0;34m\u001b[0m\u001b[0m\n\u001b[0;32m---> 74\u001b[0;31m             \u001b[0mencoder_output\u001b[0m\u001b[0;34m,\u001b[0m \u001b[0mencoder_hidden\u001b[0m \u001b[0;34m=\u001b[0m \u001b[0mencoder\u001b[0m\u001b[0;34m(\u001b[0m\u001b[0mencoder_intput\u001b[0m\u001b[0;34m,\u001b[0m \u001b[0mencoder_hidden\u001b[0m\u001b[0;34m)\u001b[0m\u001b[0;34m\u001b[0m\u001b[0;34m\u001b[0m\u001b[0m\n\u001b[0m\u001b[1;32m     75\u001b[0m \u001b[0;31m#             encoder_outputs[ei] = encoder_output[0, 0]\u001b[0m\u001b[0;34m\u001b[0m\u001b[0;34m\u001b[0m\u001b[0;34m\u001b[0m\u001b[0m\n\u001b[1;32m     76\u001b[0m \u001b[0;34m\u001b[0m\u001b[0m\n",
      "\u001b[0;32m~/anaconda3/envs/py3.7/lib/python3.7/site-packages/torch/nn/modules/module.py\u001b[0m in \u001b[0;36m_call_impl\u001b[0;34m(self, *input, **kwargs)\u001b[0m\n\u001b[1;32m    725\u001b[0m             \u001b[0mresult\u001b[0m \u001b[0;34m=\u001b[0m \u001b[0mself\u001b[0m\u001b[0;34m.\u001b[0m\u001b[0m_slow_forward\u001b[0m\u001b[0;34m(\u001b[0m\u001b[0;34m*\u001b[0m\u001b[0minput\u001b[0m\u001b[0;34m,\u001b[0m \u001b[0;34m**\u001b[0m\u001b[0mkwargs\u001b[0m\u001b[0;34m)\u001b[0m\u001b[0;34m\u001b[0m\u001b[0;34m\u001b[0m\u001b[0m\n\u001b[1;32m    726\u001b[0m         \u001b[0;32melse\u001b[0m\u001b[0;34m:\u001b[0m\u001b[0;34m\u001b[0m\u001b[0;34m\u001b[0m\u001b[0m\n\u001b[0;32m--> 727\u001b[0;31m             \u001b[0mresult\u001b[0m \u001b[0;34m=\u001b[0m \u001b[0mself\u001b[0m\u001b[0;34m.\u001b[0m\u001b[0mforward\u001b[0m\u001b[0;34m(\u001b[0m\u001b[0;34m*\u001b[0m\u001b[0minput\u001b[0m\u001b[0;34m,\u001b[0m \u001b[0;34m**\u001b[0m\u001b[0mkwargs\u001b[0m\u001b[0;34m)\u001b[0m\u001b[0;34m\u001b[0m\u001b[0;34m\u001b[0m\u001b[0m\n\u001b[0m\u001b[1;32m    728\u001b[0m         for hook in itertools.chain(\n\u001b[1;32m    729\u001b[0m                 \u001b[0m_global_forward_hooks\u001b[0m\u001b[0;34m.\u001b[0m\u001b[0mvalues\u001b[0m\u001b[0;34m(\u001b[0m\u001b[0;34m)\u001b[0m\u001b[0;34m,\u001b[0m\u001b[0;34m\u001b[0m\u001b[0;34m\u001b[0m\u001b[0m\n",
      "\u001b[0;32m~/RocksDB_DATA/model.py\u001b[0m in \u001b[0;36mforward\u001b[0;34m(self, x, hidden)\u001b[0m\n\u001b[1;32m     60\u001b[0m \u001b[0;34m\u001b[0m\u001b[0m\n\u001b[1;32m     61\u001b[0m     \u001b[0;32mdef\u001b[0m \u001b[0mforward\u001b[0m\u001b[0;34m(\u001b[0m\u001b[0mself\u001b[0m\u001b[0;34m,\u001b[0m \u001b[0mx\u001b[0m\u001b[0;34m,\u001b[0m \u001b[0mhidden\u001b[0m\u001b[0;34m)\u001b[0m\u001b[0;34m:\u001b[0m\u001b[0;34m\u001b[0m\u001b[0;34m\u001b[0m\u001b[0m\n\u001b[0;32m---> 62\u001b[0;31m         \u001b[0moutput\u001b[0m\u001b[0;34m,\u001b[0m \u001b[0mhidden\u001b[0m \u001b[0;34m=\u001b[0m \u001b[0mself\u001b[0m\u001b[0;34m.\u001b[0m\u001b[0mgru\u001b[0m\u001b[0;34m(\u001b[0m\u001b[0mx\u001b[0m\u001b[0;34m,\u001b[0m \u001b[0mhidden\u001b[0m\u001b[0;34m)\u001b[0m\u001b[0;34m\u001b[0m\u001b[0;34m\u001b[0m\u001b[0m\n\u001b[0m\u001b[1;32m     63\u001b[0m         \u001b[0;32mreturn\u001b[0m \u001b[0moutput\u001b[0m\u001b[0;34m,\u001b[0m \u001b[0mhidden\u001b[0m\u001b[0;34m\u001b[0m\u001b[0;34m\u001b[0m\u001b[0m\n\u001b[1;32m     64\u001b[0m \u001b[0;34m\u001b[0m\u001b[0m\n",
      "\u001b[0;32m~/anaconda3/envs/py3.7/lib/python3.7/site-packages/torch/nn/modules/module.py\u001b[0m in \u001b[0;36m_call_impl\u001b[0;34m(self, *input, **kwargs)\u001b[0m\n\u001b[1;32m    725\u001b[0m             \u001b[0mresult\u001b[0m \u001b[0;34m=\u001b[0m \u001b[0mself\u001b[0m\u001b[0;34m.\u001b[0m\u001b[0m_slow_forward\u001b[0m\u001b[0;34m(\u001b[0m\u001b[0;34m*\u001b[0m\u001b[0minput\u001b[0m\u001b[0;34m,\u001b[0m \u001b[0;34m**\u001b[0m\u001b[0mkwargs\u001b[0m\u001b[0;34m)\u001b[0m\u001b[0;34m\u001b[0m\u001b[0;34m\u001b[0m\u001b[0m\n\u001b[1;32m    726\u001b[0m         \u001b[0;32melse\u001b[0m\u001b[0;34m:\u001b[0m\u001b[0;34m\u001b[0m\u001b[0;34m\u001b[0m\u001b[0m\n\u001b[0;32m--> 727\u001b[0;31m             \u001b[0mresult\u001b[0m \u001b[0;34m=\u001b[0m \u001b[0mself\u001b[0m\u001b[0;34m.\u001b[0m\u001b[0mforward\u001b[0m\u001b[0;34m(\u001b[0m\u001b[0;34m*\u001b[0m\u001b[0minput\u001b[0m\u001b[0;34m,\u001b[0m \u001b[0;34m**\u001b[0m\u001b[0mkwargs\u001b[0m\u001b[0;34m)\u001b[0m\u001b[0;34m\u001b[0m\u001b[0;34m\u001b[0m\u001b[0m\n\u001b[0m\u001b[1;32m    728\u001b[0m         for hook in itertools.chain(\n\u001b[1;32m    729\u001b[0m                 \u001b[0m_global_forward_hooks\u001b[0m\u001b[0;34m.\u001b[0m\u001b[0mvalues\u001b[0m\u001b[0;34m(\u001b[0m\u001b[0;34m)\u001b[0m\u001b[0;34m,\u001b[0m\u001b[0;34m\u001b[0m\u001b[0;34m\u001b[0m\u001b[0m\n",
      "\u001b[0;32m~/anaconda3/envs/py3.7/lib/python3.7/site-packages/torch/nn/modules/rnn.py\u001b[0m in \u001b[0;36mforward\u001b[0;34m(self, input, hx)\u001b[0m\n\u001b[1;32m    735\u001b[0m             \u001b[0mhx\u001b[0m \u001b[0;34m=\u001b[0m \u001b[0mself\u001b[0m\u001b[0;34m.\u001b[0m\u001b[0mpermute_hidden\u001b[0m\u001b[0;34m(\u001b[0m\u001b[0mhx\u001b[0m\u001b[0;34m,\u001b[0m \u001b[0msorted_indices\u001b[0m\u001b[0;34m)\u001b[0m\u001b[0;34m\u001b[0m\u001b[0;34m\u001b[0m\u001b[0m\n\u001b[1;32m    736\u001b[0m \u001b[0;34m\u001b[0m\u001b[0m\n\u001b[0;32m--> 737\u001b[0;31m         \u001b[0mself\u001b[0m\u001b[0;34m.\u001b[0m\u001b[0mcheck_forward_args\u001b[0m\u001b[0;34m(\u001b[0m\u001b[0minput\u001b[0m\u001b[0;34m,\u001b[0m \u001b[0mhx\u001b[0m\u001b[0;34m,\u001b[0m \u001b[0mbatch_sizes\u001b[0m\u001b[0;34m)\u001b[0m\u001b[0;34m\u001b[0m\u001b[0;34m\u001b[0m\u001b[0m\n\u001b[0m\u001b[1;32m    738\u001b[0m         \u001b[0;32mif\u001b[0m \u001b[0mbatch_sizes\u001b[0m \u001b[0;32mis\u001b[0m \u001b[0;32mNone\u001b[0m\u001b[0;34m:\u001b[0m\u001b[0;34m\u001b[0m\u001b[0;34m\u001b[0m\u001b[0m\n\u001b[1;32m    739\u001b[0m             result = _VF.gru(input, hx, self._flat_weights, self.bias, self.num_layers,\n",
      "\u001b[0;32m~/anaconda3/envs/py3.7/lib/python3.7/site-packages/torch/nn/modules/rnn.py\u001b[0m in \u001b[0;36mcheck_forward_args\u001b[0;34m(self, input, hidden, batch_sizes)\u001b[0m\n\u001b[1;32m    197\u001b[0m \u001b[0;34m\u001b[0m\u001b[0m\n\u001b[1;32m    198\u001b[0m     \u001b[0;32mdef\u001b[0m \u001b[0mcheck_forward_args\u001b[0m\u001b[0;34m(\u001b[0m\u001b[0mself\u001b[0m\u001b[0;34m,\u001b[0m \u001b[0minput\u001b[0m\u001b[0;34m:\u001b[0m \u001b[0mTensor\u001b[0m\u001b[0;34m,\u001b[0m \u001b[0mhidden\u001b[0m\u001b[0;34m:\u001b[0m \u001b[0mTensor\u001b[0m\u001b[0;34m,\u001b[0m \u001b[0mbatch_sizes\u001b[0m\u001b[0;34m:\u001b[0m \u001b[0mOptional\u001b[0m\u001b[0;34m[\u001b[0m\u001b[0mTensor\u001b[0m\u001b[0;34m]\u001b[0m\u001b[0;34m)\u001b[0m\u001b[0;34m:\u001b[0m\u001b[0;34m\u001b[0m\u001b[0;34m\u001b[0m\u001b[0m\n\u001b[0;32m--> 199\u001b[0;31m         \u001b[0mself\u001b[0m\u001b[0;34m.\u001b[0m\u001b[0mcheck_input\u001b[0m\u001b[0;34m(\u001b[0m\u001b[0minput\u001b[0m\u001b[0;34m,\u001b[0m \u001b[0mbatch_sizes\u001b[0m\u001b[0;34m)\u001b[0m\u001b[0;34m\u001b[0m\u001b[0;34m\u001b[0m\u001b[0m\n\u001b[0m\u001b[1;32m    200\u001b[0m         \u001b[0mexpected_hidden_size\u001b[0m \u001b[0;34m=\u001b[0m \u001b[0mself\u001b[0m\u001b[0;34m.\u001b[0m\u001b[0mget_expected_hidden_size\u001b[0m\u001b[0;34m(\u001b[0m\u001b[0minput\u001b[0m\u001b[0;34m,\u001b[0m \u001b[0mbatch_sizes\u001b[0m\u001b[0;34m)\u001b[0m\u001b[0;34m\u001b[0m\u001b[0;34m\u001b[0m\u001b[0m\n\u001b[1;32m    201\u001b[0m \u001b[0;34m\u001b[0m\u001b[0m\n",
      "\u001b[0;32m~/anaconda3/envs/py3.7/lib/python3.7/site-packages/torch/nn/modules/rnn.py\u001b[0m in \u001b[0;36mcheck_input\u001b[0;34m(self, input, batch_sizes)\u001b[0m\n\u001b[1;32m    174\u001b[0m             raise RuntimeError(\n\u001b[1;32m    175\u001b[0m                 'input must have {} dimensions, got {}'.format(\n\u001b[0;32m--> 176\u001b[0;31m                     expected_input_dim, input.dim()))\n\u001b[0m\u001b[1;32m    177\u001b[0m         \u001b[0;32mif\u001b[0m \u001b[0mself\u001b[0m\u001b[0;34m.\u001b[0m\u001b[0minput_size\u001b[0m \u001b[0;34m!=\u001b[0m \u001b[0minput\u001b[0m\u001b[0;34m.\u001b[0m\u001b[0msize\u001b[0m\u001b[0;34m(\u001b[0m\u001b[0;34m-\u001b[0m\u001b[0;36m1\u001b[0m\u001b[0;34m)\u001b[0m\u001b[0;34m:\u001b[0m\u001b[0;34m\u001b[0m\u001b[0;34m\u001b[0m\u001b[0m\n\u001b[1;32m    178\u001b[0m             raise RuntimeError(\n",
      "\u001b[0;31mRuntimeError\u001b[0m: input must have 3 dimensions, got 2"
     ]
    }
   ],
   "source": [
    "lr = 0.001\n",
    "epochs = 30\n",
    "losses_tr = []\n",
    "losses_te = []\n",
    "for epoch in range(epochs):\n",
    "    loss_tr = trainRNN(encoder, decoder, loader_K2vec_tr, lr)\n",
    "    loss_te = validRNN(encoder, decoder, loader_K2vec_te)\n",
    "    \n",
    "    losses_tr.append(loss_tr)\n",
    "    losses_te.append(loss_te)\n",
    "    \n",
    "    print(f\"[{epoch:02d}/{epochs}] loss_tr: {loss_tr}\\tloss_te:{loss_te:.4f}\")"
   ]
  },
  {
   "cell_type": "markdown",
   "id": "a0c1edeb",
   "metadata": {},
   "source": [
    "### Train with raw knob"
   ]
  },
  {
   "cell_type": "code",
   "execution_count": null,
   "id": "3857a756",
   "metadata": {},
   "outputs": [],
   "source": [
    "knob_norm_tr = torch.Tensor(scaler_knob.transform(knob_tr)).cuda()\n",
    "knob_norm_te = torch.Tensor(scaler_knob.transform(knob_te)).cuda()\n",
    "\n",
    "Dataset_knob_tr = RocksDBDataset(knob_norm_tr, y_norm_tr)\n",
    "Dataset_knob_te = RocksDBDataset(knob_norm_te, y_norm_te)\n",
    "\n",
    "loader_knob_tr = DataLoader(dataset = Dataset_knob_tr, batch_size = 32, shuffle=True)\n",
    "loader_knob_te = DataLoader(dataset = Dataset_knob_te, batch_size = 32, shuffle=True)"
   ]
  },
  {
   "cell_type": "code",
   "execution_count": null,
   "id": "39e93d96",
   "metadata": {},
   "outputs": [],
   "source": [
    "knob_model = SingleNet(input_dim=knob_norm_tr.shape[1], hidden_dim=16, output_dim=4).cuda()"
   ]
  },
  {
   "cell_type": "code",
   "execution_count": null,
   "id": "8ec51bcc",
   "metadata": {},
   "outputs": [],
   "source": [
    "lr = 0.001\n",
    "epochs = 30\n",
    "losses_tr = []\n",
    "losses_te = []\n",
    "for epoch in range(epochs):\n",
    "    loss_tr = train(knob_model, loader_knob_tr, lr)\n",
    "    loss_te = valid(knob_model, loader_knob_te)\n",
    "    \n",
    "    losses_tr.append(loss_tr)\n",
    "    losses_te.append(loss_te)\n",
    "    \n",
    "    print(f\"[{epoch:02d}/{epochs}] loss_tr: {loss_tr}\\tloss_te:{loss_te:.4f}\")"
   ]
  },
  {
   "cell_type": "code",
   "execution_count": null,
   "id": "3c921e7e",
   "metadata": {
    "scrolled": false
   },
   "outputs": [],
   "source": [
    "pd.DataFrame(scaler_y.inverse_transform(y_norm_te.cpu().detach().numpy()))"
   ]
  },
  {
   "cell_type": "code",
   "execution_count": null,
   "id": "d626e2b3",
   "metadata": {
    "scrolled": false
   },
   "outputs": [],
   "source": [
    "pd.DataFrame(scaler_y.inverse_transform(model(K2vec_te).cpu().detach().numpy()))"
   ]
  },
  {
   "cell_type": "code",
   "execution_count": null,
   "id": "7f8c6404",
   "metadata": {},
   "outputs": [],
   "source": [
    "_30 = scaler_y.inverse_transform(knob_model(knob_norm_te).cpu().detach().numpy()) # 30\n",
    "_30"
   ]
  },
  {
   "cell_type": "code",
   "execution_count": null,
   "id": "2664c6d0",
   "metadata": {},
   "outputs": [],
   "source": [
    "pd.DataFrame(_30)"
   ]
  },
  {
   "cell_type": "code",
   "execution_count": null,
   "id": "28d8b4d5",
   "metadata": {
    "scrolled": false
   },
   "outputs": [],
   "source": [
    "pd.DataFrame(scaler_y.inverse_transform(knob_model(knob_norm_te).cpu().detach().numpy())) # 60"
   ]
  },
  {
   "cell_type": "code",
   "execution_count": null,
   "id": "1cd00179",
   "metadata": {},
   "outputs": [],
   "source": []
  }
 ],
 "metadata": {
  "kernelspec": {
   "display_name": "[py3.7]",
   "language": "python",
   "name": "py3.7"
  },
  "language_info": {
   "codemirror_mode": {
    "name": "ipython",
    "version": 3
   },
   "file_extension": ".py",
   "mimetype": "text/x-python",
   "name": "python",
   "nbconvert_exporter": "python",
   "pygments_lexer": "ipython3",
   "version": "3.7.11"
  }
 },
 "nbformat": 4,
 "nbformat_minor": 5
}
