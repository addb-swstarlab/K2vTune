{
 "cells": [
  {
   "cell_type": "code",
   "execution_count": 1,
   "id": "497a5903",
   "metadata": {},
   "outputs": [],
   "source": [
    "import pandas as pd\n",
    "import numpy as np\n",
    "import os, sys\n",
    "import torch\n",
    "import json\n",
    "sys.path.append('../')\n",
    "from models.utils import rocksdb_knobs_make_dict"
   ]
  },
  {
   "cell_type": "code",
   "execution_count": 2,
   "id": "1a34fcc6",
   "metadata": {},
   "outputs": [],
   "source": [
    "PATH_internal = \"../data/internal\"\n",
    "PATH_external = \"../data/external\"\n",
    "PATH_knobs = \"../data/rocksdb_conf\"\n",
    "wk_len = 16"
   ]
  },
  {
   "cell_type": "code",
   "execution_count": 3,
   "id": "d3c05bc4",
   "metadata": {},
   "outputs": [
    {
     "data": {
      "text/html": [
       "<div>\n",
       "<style scoped>\n",
       "    .dataframe tbody tr th:only-of-type {\n",
       "        vertical-align: middle;\n",
       "    }\n",
       "\n",
       "    .dataframe tbody tr th {\n",
       "        vertical-align: top;\n",
       "    }\n",
       "\n",
       "    .dataframe thead th {\n",
       "        text-align: right;\n",
       "    }\n",
       "</style>\n",
       "<table border=\"1\" class=\"dataframe\">\n",
       "  <thead>\n",
       "    <tr style=\"text-align: right;\">\n",
       "      <th></th>\n",
       "      <th>max_background_compactions</th>\n",
       "      <th>max_background_flushes</th>\n",
       "      <th>write_buffer_size</th>\n",
       "      <th>max_write_buffer_number</th>\n",
       "      <th>min_write_buffer_number_to_merge</th>\n",
       "      <th>compaction_pri</th>\n",
       "      <th>compaction_style</th>\n",
       "      <th>level0_file_num_compaction_trigger</th>\n",
       "      <th>level0_slowdown_writes_trigger</th>\n",
       "      <th>level0_stop_writes_trigger</th>\n",
       "      <th>...</th>\n",
       "      <th>open_files</th>\n",
       "      <th>block_size</th>\n",
       "      <th>cache_index_and_filter_blocks</th>\n",
       "      <th>max_bytes_for_level_base</th>\n",
       "      <th>max_bytes_for_level_multiplier</th>\n",
       "      <th>target_file_size_base</th>\n",
       "      <th>target_file_size_multiplier</th>\n",
       "      <th>num_levels</th>\n",
       "      <th>memtable_bloom_size_ratio</th>\n",
       "      <th>compression_ratio</th>\n",
       "    </tr>\n",
       "  </thead>\n",
       "  <tbody>\n",
       "    <tr>\n",
       "      <th>0</th>\n",
       "      <td>6.0</td>\n",
       "      <td>16.0</td>\n",
       "      <td>1304576.0</td>\n",
       "      <td>3.0</td>\n",
       "      <td>2.0</td>\n",
       "      <td>1.0</td>\n",
       "      <td>0.0</td>\n",
       "      <td>3.0</td>\n",
       "      <td>24.0</td>\n",
       "      <td>44.0</td>\n",
       "      <td>...</td>\n",
       "      <td>10000.0</td>\n",
       "      <td>9216.0</td>\n",
       "      <td>0.0</td>\n",
       "      <td>5242880.0</td>\n",
       "      <td>11.0</td>\n",
       "      <td>1800192.0</td>\n",
       "      <td>1.0</td>\n",
       "      <td>8.0</td>\n",
       "      <td>0.10</td>\n",
       "      <td>0.67</td>\n",
       "    </tr>\n",
       "    <tr>\n",
       "      <th>1</th>\n",
       "      <td>2.0</td>\n",
       "      <td>14.0</td>\n",
       "      <td>911360.0</td>\n",
       "      <td>6.0</td>\n",
       "      <td>2.0</td>\n",
       "      <td>0.0</td>\n",
       "      <td>0.0</td>\n",
       "      <td>7.0</td>\n",
       "      <td>18.0</td>\n",
       "      <td>55.0</td>\n",
       "      <td>...</td>\n",
       "      <td>100000.0</td>\n",
       "      <td>15360.0</td>\n",
       "      <td>1.0</td>\n",
       "      <td>3145728.0</td>\n",
       "      <td>10.0</td>\n",
       "      <td>1729536.0</td>\n",
       "      <td>1.0</td>\n",
       "      <td>5.0</td>\n",
       "      <td>0.15</td>\n",
       "      <td>0.50</td>\n",
       "    </tr>\n",
       "    <tr>\n",
       "      <th>2</th>\n",
       "      <td>8.0</td>\n",
       "      <td>6.0</td>\n",
       "      <td>1474560.0</td>\n",
       "      <td>6.0</td>\n",
       "      <td>1.0</td>\n",
       "      <td>2.0</td>\n",
       "      <td>0.0</td>\n",
       "      <td>5.0</td>\n",
       "      <td>18.0</td>\n",
       "      <td>48.0</td>\n",
       "      <td>...</td>\n",
       "      <td>1000000.0</td>\n",
       "      <td>6144.0</td>\n",
       "      <td>0.0</td>\n",
       "      <td>4194304.0</td>\n",
       "      <td>9.0</td>\n",
       "      <td>1429504.0</td>\n",
       "      <td>1.0</td>\n",
       "      <td>6.0</td>\n",
       "      <td>0.05</td>\n",
       "      <td>0.36</td>\n",
       "    </tr>\n",
       "    <tr>\n",
       "      <th>3</th>\n",
       "      <td>12.0</td>\n",
       "      <td>8.0</td>\n",
       "      <td>550912.0</td>\n",
       "      <td>7.0</td>\n",
       "      <td>1.0</td>\n",
       "      <td>3.0</td>\n",
       "      <td>0.0</td>\n",
       "      <td>4.0</td>\n",
       "      <td>18.0</td>\n",
       "      <td>35.0</td>\n",
       "      <td>...</td>\n",
       "      <td>10000.0</td>\n",
       "      <td>3072.0</td>\n",
       "      <td>1.0</td>\n",
       "      <td>2097152.0</td>\n",
       "      <td>11.0</td>\n",
       "      <td>900096.0</td>\n",
       "      <td>1.0</td>\n",
       "      <td>7.0</td>\n",
       "      <td>0.05</td>\n",
       "      <td>0.63</td>\n",
       "    </tr>\n",
       "  </tbody>\n",
       "</table>\n",
       "<p>4 rows × 22 columns</p>\n",
       "</div>"
      ],
      "text/plain": [
       "   max_background_compactions  max_background_flushes  write_buffer_size  \\\n",
       "0                         6.0                    16.0          1304576.0   \n",
       "1                         2.0                    14.0           911360.0   \n",
       "2                         8.0                     6.0          1474560.0   \n",
       "3                        12.0                     8.0           550912.0   \n",
       "\n",
       "   max_write_buffer_number  min_write_buffer_number_to_merge  compaction_pri  \\\n",
       "0                      3.0                               2.0             1.0   \n",
       "1                      6.0                               2.0             0.0   \n",
       "2                      6.0                               1.0             2.0   \n",
       "3                      7.0                               1.0             3.0   \n",
       "\n",
       "   compaction_style  level0_file_num_compaction_trigger  \\\n",
       "0               0.0                                 3.0   \n",
       "1               0.0                                 7.0   \n",
       "2               0.0                                 5.0   \n",
       "3               0.0                                 4.0   \n",
       "\n",
       "   level0_slowdown_writes_trigger  level0_stop_writes_trigger  ...  \\\n",
       "0                            24.0                        44.0  ...   \n",
       "1                            18.0                        55.0  ...   \n",
       "2                            18.0                        48.0  ...   \n",
       "3                            18.0                        35.0  ...   \n",
       "\n",
       "   open_files  block_size  cache_index_and_filter_blocks  \\\n",
       "0     10000.0      9216.0                            0.0   \n",
       "1    100000.0     15360.0                            1.0   \n",
       "2   1000000.0      6144.0                            0.0   \n",
       "3     10000.0      3072.0                            1.0   \n",
       "\n",
       "   max_bytes_for_level_base  max_bytes_for_level_multiplier  \\\n",
       "0                 5242880.0                            11.0   \n",
       "1                 3145728.0                            10.0   \n",
       "2                 4194304.0                             9.0   \n",
       "3                 2097152.0                            11.0   \n",
       "\n",
       "   target_file_size_base  target_file_size_multiplier  num_levels  \\\n",
       "0              1800192.0                          1.0         8.0   \n",
       "1              1729536.0                          1.0         5.0   \n",
       "2              1429504.0                          1.0         6.0   \n",
       "3               900096.0                          1.0         7.0   \n",
       "\n",
       "   memtable_bloom_size_ratio  compression_ratio  \n",
       "0                       0.10               0.67  \n",
       "1                       0.15               0.50  \n",
       "2                       0.05               0.36  \n",
       "3                       0.05               0.63  \n",
       "\n",
       "[4 rows x 22 columns]"
      ]
     },
     "execution_count": 3,
     "metadata": {},
     "output_type": "execute_result"
    }
   ],
   "source": [
    "knobs = rocksdb_knobs_make_dict(PATH_knobs)\n",
    "knobs = pd.DataFrame(data=knobs['data'].astype(np.float32), columns=knobs['columnlabels'])\n",
    "columns = knobs.columns\n",
    "knobs.head(4)"
   ]
  },
  {
   "cell_type": "code",
   "execution_count": 4,
   "id": "d362eecc",
   "metadata": {
    "collapsed": true
   },
   "outputs": [
    {
     "data": {
      "text/html": [
       "<div>\n",
       "<style scoped>\n",
       "    .dataframe tbody tr th:only-of-type {\n",
       "        vertical-align: middle;\n",
       "    }\n",
       "\n",
       "    .dataframe tbody tr th {\n",
       "        vertical-align: top;\n",
       "    }\n",
       "\n",
       "    .dataframe thead th {\n",
       "        text-align: right;\n",
       "    }\n",
       "</style>\n",
       "<table border=\"1\" class=\"dataframe\">\n",
       "  <thead>\n",
       "    <tr style=\"text-align: right;\">\n",
       "      <th></th>\n",
       "      <th>rocksdb.block.cache.miss COUNT</th>\n",
       "      <th>rocksdb.block.cache.hit COUNT</th>\n",
       "      <th>rocksdb.block.cache.add COUNT</th>\n",
       "      <th>rocksdb.block.cache.index.miss COUNT</th>\n",
       "      <th>rocksdb.block.cache.index.hit COUNT</th>\n",
       "      <th>rocksdb.block.cache.index.add COUNT</th>\n",
       "      <th>rocksdb.block.cache.index.bytes.insert COUNT</th>\n",
       "      <th>rocksdb.block.cache.data.miss COUNT</th>\n",
       "      <th>rocksdb.block.cache.data.hit COUNT</th>\n",
       "      <th>rocksdb.block.cache.data.add COUNT</th>\n",
       "      <th>...</th>\n",
       "      <th>rocksdb.bytes.decompressed_P99</th>\n",
       "      <th>rocksdb.bytes.decompressed_P100</th>\n",
       "      <th>rocksdb.bytes.decompressed_COUNT</th>\n",
       "      <th>rocksdb.bytes.decompressed_SUM</th>\n",
       "      <th>rocksdb.db.flush.micros_P50</th>\n",
       "      <th>rocksdb.db.flush.micros_P95</th>\n",
       "      <th>rocksdb.db.flush.micros_P99</th>\n",
       "      <th>rocksdb.db.flush.micros_P100</th>\n",
       "      <th>rocksdb.db.flush.micros_COUNT</th>\n",
       "      <th>rocksdb.db.flush.micros_SUM</th>\n",
       "    </tr>\n",
       "    <tr>\n",
       "      <th>index</th>\n",
       "      <th></th>\n",
       "      <th></th>\n",
       "      <th></th>\n",
       "      <th></th>\n",
       "      <th></th>\n",
       "      <th></th>\n",
       "      <th></th>\n",
       "      <th></th>\n",
       "      <th></th>\n",
       "      <th></th>\n",
       "      <th></th>\n",
       "      <th></th>\n",
       "      <th></th>\n",
       "      <th></th>\n",
       "      <th></th>\n",
       "      <th></th>\n",
       "      <th></th>\n",
       "      <th></th>\n",
       "      <th></th>\n",
       "      <th></th>\n",
       "      <th></th>\n",
       "    </tr>\n",
       "  </thead>\n",
       "  <tbody>\n",
       "    <tr>\n",
       "      <th>/home/jieun/data_generation_rocksdb/rocksdb_conf/config1.cnf</th>\n",
       "      <td>1296845</td>\n",
       "      <td>1172926</td>\n",
       "      <td>1213729</td>\n",
       "      <td>0</td>\n",
       "      <td>0</td>\n",
       "      <td>0</td>\n",
       "      <td>0</td>\n",
       "      <td>1296845</td>\n",
       "      <td>1172926</td>\n",
       "      <td>1213729</td>\n",
       "      <td>...</td>\n",
       "      <td>8383.000000</td>\n",
       "      <td>8383.0</td>\n",
       "      <td>1297251</td>\n",
       "      <td>10856979511</td>\n",
       "      <td>21652.173913</td>\n",
       "      <td>30615.000000</td>\n",
       "      <td>30615.0</td>\n",
       "      <td>30615.0</td>\n",
       "      <td>44</td>\n",
       "      <td>1015663</td>\n",
       "    </tr>\n",
       "    <tr>\n",
       "      <th>/home/jieun/data_generation_rocksdb/rocksdb_conf/config2.cnf</th>\n",
       "      <td>1304820</td>\n",
       "      <td>4192080</td>\n",
       "      <td>1256074</td>\n",
       "      <td>1582</td>\n",
       "      <td>2701880</td>\n",
       "      <td>1582</td>\n",
       "      <td>5078096</td>\n",
       "      <td>1303238</td>\n",
       "      <td>1490200</td>\n",
       "      <td>1254492</td>\n",
       "      <td>...</td>\n",
       "      <td>14659.000000</td>\n",
       "      <td>14659.0</td>\n",
       "      <td>1304820</td>\n",
       "      <td>19074632333</td>\n",
       "      <td>18135.593220</td>\n",
       "      <td>21979.661017</td>\n",
       "      <td>26561.0</td>\n",
       "      <td>26561.0</td>\n",
       "      <td>63</td>\n",
       "      <td>1074316</td>\n",
       "    </tr>\n",
       "    <tr>\n",
       "      <th>/home/jieun/data_generation_rocksdb/rocksdb_conf/config3.cnf</th>\n",
       "      <td>1407632</td>\n",
       "      <td>2195141</td>\n",
       "      <td>1315590</td>\n",
       "      <td>0</td>\n",
       "      <td>0</td>\n",
       "      <td>0</td>\n",
       "      <td>0</td>\n",
       "      <td>1407632</td>\n",
       "      <td>2195141</td>\n",
       "      <td>1315590</td>\n",
       "      <td>...</td>\n",
       "      <td>6578.256132</td>\n",
       "      <td>12483.0</td>\n",
       "      <td>1407897</td>\n",
       "      <td>8847109704</td>\n",
       "      <td>29660.714286</td>\n",
       "      <td>45820.000000</td>\n",
       "      <td>45820.0</td>\n",
       "      <td>45820.0</td>\n",
       "      <td>78</td>\n",
       "      <td>2692570</td>\n",
       "    </tr>\n",
       "    <tr>\n",
       "      <th>/home/jieun/data_generation_rocksdb/rocksdb_conf/config4.cnf</th>\n",
       "      <td>1497592</td>\n",
       "      <td>7007880</td>\n",
       "      <td>1252738</td>\n",
       "      <td>974</td>\n",
       "      <td>4003817</td>\n",
       "      <td>974</td>\n",
       "      <td>6993856</td>\n",
       "      <td>1496618</td>\n",
       "      <td>3004063</td>\n",
       "      <td>1251764</td>\n",
       "      <td>...</td>\n",
       "      <td>4385.648850</td>\n",
       "      <td>9451.0</td>\n",
       "      <td>1497592</td>\n",
       "      <td>4718848784</td>\n",
       "      <td>24646.616541</td>\n",
       "      <td>32387.969925</td>\n",
       "      <td>34773.0</td>\n",
       "      <td>34773.0</td>\n",
       "      <td>208</td>\n",
       "      <td>5221234</td>\n",
       "    </tr>\n",
       "  </tbody>\n",
       "</table>\n",
       "<p>4 rows × 148 columns</p>\n",
       "</div>"
      ],
      "text/plain": [
       "                                                    rocksdb.block.cache.miss COUNT  \\\n",
       "index                                                                                \n",
       "/home/jieun/data_generation_rocksdb/rocksdb_con...                         1296845   \n",
       "/home/jieun/data_generation_rocksdb/rocksdb_con...                         1304820   \n",
       "/home/jieun/data_generation_rocksdb/rocksdb_con...                         1407632   \n",
       "/home/jieun/data_generation_rocksdb/rocksdb_con...                         1497592   \n",
       "\n",
       "                                                    rocksdb.block.cache.hit COUNT  \\\n",
       "index                                                                               \n",
       "/home/jieun/data_generation_rocksdb/rocksdb_con...                        1172926   \n",
       "/home/jieun/data_generation_rocksdb/rocksdb_con...                        4192080   \n",
       "/home/jieun/data_generation_rocksdb/rocksdb_con...                        2195141   \n",
       "/home/jieun/data_generation_rocksdb/rocksdb_con...                        7007880   \n",
       "\n",
       "                                                    rocksdb.block.cache.add COUNT  \\\n",
       "index                                                                               \n",
       "/home/jieun/data_generation_rocksdb/rocksdb_con...                        1213729   \n",
       "/home/jieun/data_generation_rocksdb/rocksdb_con...                        1256074   \n",
       "/home/jieun/data_generation_rocksdb/rocksdb_con...                        1315590   \n",
       "/home/jieun/data_generation_rocksdb/rocksdb_con...                        1252738   \n",
       "\n",
       "                                                    rocksdb.block.cache.index.miss COUNT  \\\n",
       "index                                                                                      \n",
       "/home/jieun/data_generation_rocksdb/rocksdb_con...                                     0   \n",
       "/home/jieun/data_generation_rocksdb/rocksdb_con...                                  1582   \n",
       "/home/jieun/data_generation_rocksdb/rocksdb_con...                                     0   \n",
       "/home/jieun/data_generation_rocksdb/rocksdb_con...                                   974   \n",
       "\n",
       "                                                    rocksdb.block.cache.index.hit COUNT  \\\n",
       "index                                                                                     \n",
       "/home/jieun/data_generation_rocksdb/rocksdb_con...                                    0   \n",
       "/home/jieun/data_generation_rocksdb/rocksdb_con...                              2701880   \n",
       "/home/jieun/data_generation_rocksdb/rocksdb_con...                                    0   \n",
       "/home/jieun/data_generation_rocksdb/rocksdb_con...                              4003817   \n",
       "\n",
       "                                                    rocksdb.block.cache.index.add COUNT  \\\n",
       "index                                                                                     \n",
       "/home/jieun/data_generation_rocksdb/rocksdb_con...                                    0   \n",
       "/home/jieun/data_generation_rocksdb/rocksdb_con...                                 1582   \n",
       "/home/jieun/data_generation_rocksdb/rocksdb_con...                                    0   \n",
       "/home/jieun/data_generation_rocksdb/rocksdb_con...                                  974   \n",
       "\n",
       "                                                    rocksdb.block.cache.index.bytes.insert COUNT  \\\n",
       "index                                                                                              \n",
       "/home/jieun/data_generation_rocksdb/rocksdb_con...                                             0   \n",
       "/home/jieun/data_generation_rocksdb/rocksdb_con...                                       5078096   \n",
       "/home/jieun/data_generation_rocksdb/rocksdb_con...                                             0   \n",
       "/home/jieun/data_generation_rocksdb/rocksdb_con...                                       6993856   \n",
       "\n",
       "                                                    rocksdb.block.cache.data.miss COUNT  \\\n",
       "index                                                                                     \n",
       "/home/jieun/data_generation_rocksdb/rocksdb_con...                              1296845   \n",
       "/home/jieun/data_generation_rocksdb/rocksdb_con...                              1303238   \n",
       "/home/jieun/data_generation_rocksdb/rocksdb_con...                              1407632   \n",
       "/home/jieun/data_generation_rocksdb/rocksdb_con...                              1496618   \n",
       "\n",
       "                                                    rocksdb.block.cache.data.hit COUNT  \\\n",
       "index                                                                                    \n",
       "/home/jieun/data_generation_rocksdb/rocksdb_con...                             1172926   \n",
       "/home/jieun/data_generation_rocksdb/rocksdb_con...                             1490200   \n",
       "/home/jieun/data_generation_rocksdb/rocksdb_con...                             2195141   \n",
       "/home/jieun/data_generation_rocksdb/rocksdb_con...                             3004063   \n",
       "\n",
       "                                                    rocksdb.block.cache.data.add COUNT  \\\n",
       "index                                                                                    \n",
       "/home/jieun/data_generation_rocksdb/rocksdb_con...                             1213729   \n",
       "/home/jieun/data_generation_rocksdb/rocksdb_con...                             1254492   \n",
       "/home/jieun/data_generation_rocksdb/rocksdb_con...                             1315590   \n",
       "/home/jieun/data_generation_rocksdb/rocksdb_con...                             1251764   \n",
       "\n",
       "                                                    ...  \\\n",
       "index                                               ...   \n",
       "/home/jieun/data_generation_rocksdb/rocksdb_con...  ...   \n",
       "/home/jieun/data_generation_rocksdb/rocksdb_con...  ...   \n",
       "/home/jieun/data_generation_rocksdb/rocksdb_con...  ...   \n",
       "/home/jieun/data_generation_rocksdb/rocksdb_con...  ...   \n",
       "\n",
       "                                                    rocksdb.bytes.decompressed_P99  \\\n",
       "index                                                                                \n",
       "/home/jieun/data_generation_rocksdb/rocksdb_con...                     8383.000000   \n",
       "/home/jieun/data_generation_rocksdb/rocksdb_con...                    14659.000000   \n",
       "/home/jieun/data_generation_rocksdb/rocksdb_con...                     6578.256132   \n",
       "/home/jieun/data_generation_rocksdb/rocksdb_con...                     4385.648850   \n",
       "\n",
       "                                                    rocksdb.bytes.decompressed_P100  \\\n",
       "index                                                                                 \n",
       "/home/jieun/data_generation_rocksdb/rocksdb_con...                           8383.0   \n",
       "/home/jieun/data_generation_rocksdb/rocksdb_con...                          14659.0   \n",
       "/home/jieun/data_generation_rocksdb/rocksdb_con...                          12483.0   \n",
       "/home/jieun/data_generation_rocksdb/rocksdb_con...                           9451.0   \n",
       "\n",
       "                                                    rocksdb.bytes.decompressed_COUNT  \\\n",
       "index                                                                                  \n",
       "/home/jieun/data_generation_rocksdb/rocksdb_con...                           1297251   \n",
       "/home/jieun/data_generation_rocksdb/rocksdb_con...                           1304820   \n",
       "/home/jieun/data_generation_rocksdb/rocksdb_con...                           1407897   \n",
       "/home/jieun/data_generation_rocksdb/rocksdb_con...                           1497592   \n",
       "\n",
       "                                                    rocksdb.bytes.decompressed_SUM  \\\n",
       "index                                                                                \n",
       "/home/jieun/data_generation_rocksdb/rocksdb_con...                     10856979511   \n",
       "/home/jieun/data_generation_rocksdb/rocksdb_con...                     19074632333   \n",
       "/home/jieun/data_generation_rocksdb/rocksdb_con...                      8847109704   \n",
       "/home/jieun/data_generation_rocksdb/rocksdb_con...                      4718848784   \n",
       "\n",
       "                                                    rocksdb.db.flush.micros_P50  \\\n",
       "index                                                                             \n",
       "/home/jieun/data_generation_rocksdb/rocksdb_con...                 21652.173913   \n",
       "/home/jieun/data_generation_rocksdb/rocksdb_con...                 18135.593220   \n",
       "/home/jieun/data_generation_rocksdb/rocksdb_con...                 29660.714286   \n",
       "/home/jieun/data_generation_rocksdb/rocksdb_con...                 24646.616541   \n",
       "\n",
       "                                                    rocksdb.db.flush.micros_P95  \\\n",
       "index                                                                             \n",
       "/home/jieun/data_generation_rocksdb/rocksdb_con...                 30615.000000   \n",
       "/home/jieun/data_generation_rocksdb/rocksdb_con...                 21979.661017   \n",
       "/home/jieun/data_generation_rocksdb/rocksdb_con...                 45820.000000   \n",
       "/home/jieun/data_generation_rocksdb/rocksdb_con...                 32387.969925   \n",
       "\n",
       "                                                    rocksdb.db.flush.micros_P99  \\\n",
       "index                                                                             \n",
       "/home/jieun/data_generation_rocksdb/rocksdb_con...                      30615.0   \n",
       "/home/jieun/data_generation_rocksdb/rocksdb_con...                      26561.0   \n",
       "/home/jieun/data_generation_rocksdb/rocksdb_con...                      45820.0   \n",
       "/home/jieun/data_generation_rocksdb/rocksdb_con...                      34773.0   \n",
       "\n",
       "                                                    rocksdb.db.flush.micros_P100  \\\n",
       "index                                                                              \n",
       "/home/jieun/data_generation_rocksdb/rocksdb_con...                       30615.0   \n",
       "/home/jieun/data_generation_rocksdb/rocksdb_con...                       26561.0   \n",
       "/home/jieun/data_generation_rocksdb/rocksdb_con...                       45820.0   \n",
       "/home/jieun/data_generation_rocksdb/rocksdb_con...                       34773.0   \n",
       "\n",
       "                                                    rocksdb.db.flush.micros_COUNT  \\\n",
       "index                                                                               \n",
       "/home/jieun/data_generation_rocksdb/rocksdb_con...                             44   \n",
       "/home/jieun/data_generation_rocksdb/rocksdb_con...                             63   \n",
       "/home/jieun/data_generation_rocksdb/rocksdb_con...                             78   \n",
       "/home/jieun/data_generation_rocksdb/rocksdb_con...                            208   \n",
       "\n",
       "                                                    rocksdb.db.flush.micros_SUM  \n",
       "index                                                                            \n",
       "/home/jieun/data_generation_rocksdb/rocksdb_con...                      1015663  \n",
       "/home/jieun/data_generation_rocksdb/rocksdb_con...                      1074316  \n",
       "/home/jieun/data_generation_rocksdb/rocksdb_con...                      2692570  \n",
       "/home/jieun/data_generation_rocksdb/rocksdb_con...                      5221234  \n",
       "\n",
       "[4 rows x 148 columns]"
      ]
     },
     "execution_count": 4,
     "metadata": {},
     "output_type": "execute_result"
    }
   ],
   "source": [
    "wk_len = 16\n",
    "internal_dict = {}\n",
    "\n",
    "pruned_im = pd.read_csv(os.path.join(PATH_internal, 'internal_ensemble_pruned_tmp.csv'), index_col=0)\n",
    "for wk in range(wk_len):\n",
    "    im = pd.read_csv(os.path.join(PATH_internal, f'internal_results_{wk}.csv'), index_col=0)\n",
    "    internal_dict[wk] = im[pruned_im.columns]\n",
    "#     break\n",
    "internal_dict[0].head(4)"
   ]
  },
  {
   "cell_type": "code",
   "execution_count": 6,
   "id": "26c39ef8",
   "metadata": {},
   "outputs": [],
   "source": [
    "im = pd.read_csv(f'../data/target_workload/16/internal_results_11.csv', index_col=0)\n",
    "internal_dict[wk+1] = im[pruned_im.columns]"
   ]
  },
  {
   "cell_type": "code",
   "execution_count": 10,
   "id": "f05df438",
   "metadata": {},
   "outputs": [],
   "source": [
    "from sklearn.preprocessing import MinMaxScaler\n",
    "scaler = MinMaxScaler().fit(pd.concat(internal_dict))"
   ]
  },
  {
   "cell_type": "code",
   "execution_count": 26,
   "id": "fb33f10e",
   "metadata": {},
   "outputs": [],
   "source": [
    "target_config_idx = [1004,1214,1312,2465,3306,3333,4569,4801,5124,5389,8490,9131,9143,11896,12065,12293,12491,13098,18088,19052]"
   ]
  },
  {
   "cell_type": "code",
   "execution_count": 27,
   "id": "6e15ff34",
   "metadata": {},
   "outputs": [],
   "source": [
    "wk = []\n",
    "for im_d in internal_dict:\n",
    "    if im_d == 16:\n",
    "        wk.append(scaler.transform(internal_dict[im_d]))\n",
    "    else:\n",
    "        wk.append(scaler.transform(internal_dict[im_d].iloc[target_config_idx, :]))"
   ]
  },
  {
   "cell_type": "code",
   "execution_count": 28,
   "id": "db856339",
   "metadata": {},
   "outputs": [],
   "source": [
    "def euclidean_distance(a, b):\n",
    "    res = a - b\n",
    "    res = res ** 2\n",
    "    res = np.sqrt(res)\n",
    "    return np.average(res)"
   ]
  },
  {
   "cell_type": "code",
   "execution_count": 40,
   "id": "cf6e162b",
   "metadata": {},
   "outputs": [
    {
     "name": "stdout",
     "output_type": "stream",
     "text": [
      "   0th   0.05210\n",
      "   1th   0.02450\n",
      "   2th   0.02486\n",
      "   3th   0.06961\n",
      "   4th   0.05957\n",
      "   5th   0.02316\n",
      "   6th   0.02243\n",
      "   7th   0.07324\n",
      "   8th   0.07950\n",
      "   9th   0.04966\n",
      "  10th   0.04604\n",
      "  11th   0.09562\n",
      "  12th   0.14600\n",
      "  13th   0.07212\n",
      "  14th   0.05640\n",
      "  15th   0.10699\n",
      "  16th   0.00000\n",
      "best similar workload is 6th\n"
     ]
    }
   ],
   "source": [
    "big = 100\n",
    "trg = 16\n",
    "for i in range(len(wk)):\n",
    "    ed = euclidean_distance(wk[trg], wk[i])\n",
    "    if ed<big and trg != i: \n",
    "        big=ed\n",
    "        idx = i\n",
    "    print(f'{i:4}th   {ed:.5f}')\n",
    "print(f'best similar workload is {idx}th')"
   ]
  },
  {
   "cell_type": "code",
   "execution_count": null,
   "id": "a9c6b059",
   "metadata": {},
   "outputs": [],
   "source": []
  },
  {
   "cell_type": "code",
   "execution_count": null,
   "id": "37be9ee6",
   "metadata": {},
   "outputs": [],
   "source": []
  },
  {
   "cell_type": "code",
   "execution_count": null,
   "id": "f28de2ba",
   "metadata": {},
   "outputs": [],
   "source": []
  },
  {
   "cell_type": "code",
   "execution_count": null,
   "id": "16023560",
   "metadata": {},
   "outputs": [],
   "source": []
  },
  {
   "cell_type": "code",
   "execution_count": null,
   "id": "72122133",
   "metadata": {},
   "outputs": [],
   "source": []
  },
  {
   "cell_type": "code",
   "execution_count": null,
   "id": "88bc584d",
   "metadata": {},
   "outputs": [],
   "source": [
    "external_dict = {}\n",
    "for wk in range(wk_len):\n",
    "    ex = pd.read_csv(os.path.join(PATH_external, f'external_results_{wk}.csv'), index_col=0)\n",
    "    external_dict[wk] = ex\n",
    "#     break\n",
    "external_dict[0].head(4)"
   ]
  },
  {
   "cell_type": "markdown",
   "id": "aa739556",
   "metadata": {},
   "source": [
    "## Test Train\n",
    "- train: 16000, test: 4000\n",
    "- target: 0 th workload"
   ]
  },
  {
   "cell_type": "code",
   "execution_count": null,
   "id": "48e90336",
   "metadata": {},
   "outputs": [],
   "source": [
    "from sklearn.model_selection import train_test_split\n",
    "from sklearn.preprocessing import MinMaxScaler, StandardScaler\n",
    "from torch.utils.data import Dataset, DataLoader\n",
    "from models.network import RocksDBDataset, SingleNet#, EncoderRNN, DecoderRNN\n",
    "from models.train import train, valid#, trainRNN, validRNN"
   ]
  },
  {
   "cell_type": "code",
   "execution_count": null,
   "id": "6ed8b621",
   "metadata": {},
   "outputs": [],
   "source": [
    "knobOneHot = np.load('../data/knobsOneHot.npy')\n",
    "internal_m = internal_dict[2] # similar datasets\n",
    "external_m = external_dict[2] # similar datasets\n",
    "knobOneHot.shape, internal_m.shape, external_m.shape"
   ]
  },
  {
   "cell_type": "code",
   "execution_count": null,
   "id": "420c7d8c",
   "metadata": {},
   "outputs": [],
   "source": [
    "X_tr, X_te, Im_tr, Im_te, y_tr, y_te, knob_tr, knob_te = \\\n",
    "            train_test_split(knobOneHot, internal_m, external_m, knobs, test_size=0.2, random_state=24)\n",
    "X_tr.shape, X_te.shape, Im_tr.shape, Im_te.shape, y_tr.shape, y_te.shape, knob_tr.shape, knob_te.shape"
   ]
  },
  {
   "cell_type": "code",
   "execution_count": null,
   "id": "79cd52ab",
   "metadata": {
    "scrolled": true
   },
   "outputs": [],
   "source": [
    "y_te.to_numpy()[0,:]"
   ]
  },
  {
   "cell_type": "code",
   "execution_count": null,
   "id": "cb231188",
   "metadata": {},
   "outputs": [],
   "source": [
    "Im_tr.shape"
   ]
  },
  {
   "cell_type": "markdown",
   "id": "f64ab563",
   "metadata": {},
   "source": [
    "### Pre-training"
   ]
  },
  {
   "cell_type": "code",
   "execution_count": null,
   "id": "8a67cd6f",
   "metadata": {},
   "outputs": [],
   "source": [
    "scaler_X = MinMaxScaler().fit(X_tr) # range: 0~1\n",
    "scaler_knob = MinMaxScaler().fit(knob_tr)\n",
    "scaler_Im = MinMaxScaler().fit(Im_tr)\n",
    "scaler_y = StandardScaler().fit(y_tr)\n",
    "\n",
    "# X_norm_tr = torch.Tensor(scaler_X.transform(X_tr)).cuda()\n",
    "# X_norm_te = torch.Tensor(scaler_X.transform(X_te)).cuda()\n",
    "X_tr = torch.Tensor(X_tr).cuda()\n",
    "X_te = torch.Tensor(X_te).cuda()\n",
    "y_norm_tr = torch.Tensor(scaler_y.transform(y_tr)).cuda()\n",
    "y_norm_te = torch.Tensor(scaler_y.transform(y_te)).cuda()"
   ]
  },
  {
   "cell_type": "code",
   "execution_count": null,
   "id": "3636eadf",
   "metadata": {},
   "outputs": [],
   "source": [
    "Im_norm_tr = torch.Tensor(scaler_Im.transform(Im_tr)).cuda()\n",
    "Im_norm_te = torch.Tensor(scaler_Im.transform(Im_te)).cuda()\n",
    "Dataset_tr = RocksDBDataset(X_tr, Im_norm_tr)\n",
    "Dataset_te = RocksDBDataset(X_te, Im_norm_te)\n",
    "\n",
    "loader_tr = DataLoader(dataset = Dataset_tr, batch_size = 32, shuffle=True)\n",
    "loader_te = DataLoader(dataset = Dataset_te, batch_size = 32, shuffle=False)"
   ]
  },
  {
   "cell_type": "code",
   "execution_count": null,
   "id": "fc9afcc7",
   "metadata": {},
   "outputs": [],
   "source": [
    "k2i_model = SingleNet(input_dim=X_tr.shape[1], hidden_dim=1024, output_dim=148).cuda()"
   ]
  },
  {
   "cell_type": "code",
   "execution_count": null,
   "id": "a998a4a8",
   "metadata": {
    "scrolled": false
   },
   "outputs": [],
   "source": [
    "lr = 0.001\n",
    "epochs = 30\n",
    "losses_tr = []\n",
    "\n",
    "for epoch in range(epochs):\n",
    "    loss_tr = train(k2i_model, loader_tr, lr)\n",
    "    losses_tr.append(loss_tr)\n",
    "\n",
    "    print(f\"[{epoch:02d}/{epochs}] loss_tr: {loss_tr}\")\n",
    "        \n",
    "# print(f\"[{epoch:02d}/{epochs}] loss_tr: {loss_tr:.4f}\")"
   ]
  },
  {
   "cell_type": "markdown",
   "id": "922ffb5b",
   "metadata": {},
   "source": [
    "### Train with knob2vec"
   ]
  },
  {
   "cell_type": "code",
   "execution_count": null,
   "id": "cad7e220",
   "metadata": {
    "scrolled": true
   },
   "outputs": [],
   "source": [
    "lookup_table = k2i_model.knob_fc[0].weight.T.cpu().detach().numpy()\n",
    "# lookup_table = np.load('LookupTable.npy')\n",
    "lookup_table.shape"
   ]
  },
  {
   "cell_type": "code",
   "execution_count": null,
   "id": "56fbef15",
   "metadata": {},
   "outputs": [],
   "source": [
    "# np.save('LookupTable.npy', lookup_table)"
   ]
  },
  {
   "cell_type": "code",
   "execution_count": null,
   "id": "0e41d453",
   "metadata": {},
   "outputs": [],
   "source": [
    "def get_knob2vec(data, table):\n",
    "    k2vec = np.zeros((data.shape[0], 22, table.shape[1]))\n",
    "    for i in range(data.shape[0]):\n",
    "#         idx = (data[i]==1).nonzero().squeeze().cpu().detach().numpy()\n",
    "        idx = (data[i]==1).nonzero().squeeze().cpu().detach().numpy()\n",
    "        k2vec[i] = lookup_table[idx]\n",
    "    return k2vec"
   ]
  },
  {
   "cell_type": "code",
   "execution_count": null,
   "id": "7d46b3d3",
   "metadata": {
    "scrolled": true
   },
   "outputs": [],
   "source": [
    "K2vec_tr = torch.Tensor(get_knob2vec(X_tr, lookup_table)).cuda()\n",
    "K2vec_tr = torch.reshape(K2vec_tr, (K2vec_tr.shape[0], -1))\n",
    "K2vec_te = torch.Tensor(get_knob2vec(X_te, lookup_table)).cuda()\n",
    "K2vec_te = torch.reshape(K2vec_te, (K2vec_te.shape[0], -1))\n",
    "\n",
    "Dataset_K2vec_tr = RocksDBDataset(K2vec_tr, y_norm_tr)\n",
    "Dataset_K2vec_te = RocksDBDataset(K2vec_te, y_norm_te)\n",
    "\n",
    "loader_K2vec_tr = DataLoader(dataset = Dataset_K2vec_tr, batch_size = 32, shuffle=True)\n",
    "loader_K2vec_te = DataLoader(dataset = Dataset_K2vec_te, batch_size = 32, shuffle=False)"
   ]
  },
  {
   "cell_type": "code",
   "execution_count": null,
   "id": "826e6933",
   "metadata": {},
   "outputs": [],
   "source": [
    "K2vec_tr.shape"
   ]
  },
  {
   "cell_type": "code",
   "execution_count": null,
   "id": "b59b4389",
   "metadata": {},
   "outputs": [],
   "source": [
    "model = SingleNet(input_dim=K2vec_tr.shape[-1], hidden_dim=64, output_dim=4).cuda()"
   ]
  },
  {
   "cell_type": "code",
   "execution_count": null,
   "id": "566a6bff",
   "metadata": {
    "scrolled": true
   },
   "outputs": [],
   "source": [
    "lr = 0.001\n",
    "epochs = 30\n",
    "losses_tr = []\n",
    "losses_te = []\n",
    "for epoch in range(epochs):\n",
    "    loss_tr = train(model, loader_K2vec_tr, lr)\n",
    "    loss_te, outputs = valid(model, loader_K2vec_te)\n",
    "    \n",
    "    losses_tr.append(loss_tr)\n",
    "    losses_te.append(loss_te)\n",
    "    \n",
    "    print(f'[{epoch}/{epochs}] loss_tr: {loss_tr:.8f}\\tloss_te:{loss_te:.8f}')"
   ]
  },
  {
   "cell_type": "code",
   "execution_count": null,
   "id": "4151390e",
   "metadata": {},
   "outputs": [],
   "source": [
    "pred = np.round(scaler_y.inverse_transform(outputs.cpu().detach().numpy()),2)\n",
    "true = y_te.to_numpy()"
   ]
  },
  {
   "cell_type": "code",
   "execution_count": null,
   "id": "8da566d7",
   "metadata": {},
   "outputs": [],
   "source": [
    "from sklearn.metrics import r2_score"
   ]
  },
  {
   "cell_type": "code",
   "execution_count": null,
   "id": "d1cfd965",
   "metadata": {},
   "outputs": [],
   "source": [
    "for i in range(10):\n",
    "    print(f'predict rslt: {pred[i]}')\n",
    "    print(f'ground truth: {true[i]}\\n')"
   ]
  },
  {
   "cell_type": "code",
   "execution_count": null,
   "id": "6bb82c10",
   "metadata": {
    "scrolled": true
   },
   "outputs": [],
   "source": [
    "for i in external_dict[0].columns:\n",
    "    print(i)"
   ]
  },
  {
   "cell_type": "code",
   "execution_count": null,
   "id": "f9c0856b",
   "metadata": {
    "scrolled": true
   },
   "outputs": [],
   "source": [
    "score = r2_score(true, pred, multioutput='raw_values')\n",
    "ex_col = external_dict[0].columns\n",
    "for i, c in enumerate(ex_col):\n",
    "    print(f'{c:4} r2 score = {score[i]:.4f}')"
   ]
  },
  {
   "cell_type": "code",
   "execution_count": null,
   "id": "e6952833",
   "metadata": {
    "scrolled": true
   },
   "outputs": [],
   "source": [
    "r2_score(true, pred, multioutput='raw_values')"
   ]
  },
  {
   "cell_type": "markdown",
   "id": "e31d29a7",
   "metadata": {},
   "source": [
    "### Train with knob2vec and GRU"
   ]
  },
  {
   "cell_type": "code",
   "execution_count": null,
   "id": "c0424634",
   "metadata": {},
   "outputs": [],
   "source": [
    "K2vec_tr = torch.Tensor(get_knob2vec(X_tr, lookup_table)).cuda()\n",
    "K2vec_te = torch.Tensor(get_knob2vec(X_te, lookup_table)).cuda()\n",
    "\n",
    "Dataset_K2vec_tr = RocksDBDataset(K2vec_tr, y_norm_tr)\n",
    "Dataset_K2vec_te = RocksDBDataset(K2vec_te, y_norm_te)\n",
    "\n",
    "loader_K2vec_tr = DataLoader(dataset = Dataset_K2vec_tr, batch_size = 32, shuffle=True)\n",
    "loader_K2vec_te = DataLoader(dataset = Dataset_K2vec_te, batch_size = 32, shuffle=True)"
   ]
  },
  {
   "cell_type": "code",
   "execution_count": null,
   "id": "f34a20c2",
   "metadata": {},
   "outputs": [],
   "source": [
    "encoder = EncoderRNN(hidden_dim=K2vec_tr.shape[-1]).cuda()\n",
    "decoder = DecoderRNN(hidden_dim=K2vec_tr.shape[-1], output_dim=1).cuda()"
   ]
  },
  {
   "cell_type": "code",
   "execution_count": null,
   "id": "bc0361f9",
   "metadata": {
    "scrolled": false
   },
   "outputs": [],
   "source": [
    "lr = 0.001\n",
    "epochs = 30\n",
    "losses_tr = []\n",
    "losses_te = []\n",
    "for epoch in range(epochs):\n",
    "    loss_tr = trainRNN(encoder, decoder, loader_K2vec_tr, lr)\n",
    "    loss_te = validRNN(encoder, decoder, loader_K2vec_te)\n",
    "    \n",
    "    losses_tr.append(loss_tr)\n",
    "    losses_te.append(loss_te)\n",
    "    \n",
    "    print(f\"[{epoch:02d}/{epochs}] loss_tr: {loss_tr}\\tloss_te:{loss_te:.4f}\")"
   ]
  },
  {
   "cell_type": "markdown",
   "id": "a0c1edeb",
   "metadata": {},
   "source": [
    "### Train with raw knob"
   ]
  },
  {
   "cell_type": "code",
   "execution_count": null,
   "id": "3857a756",
   "metadata": {},
   "outputs": [],
   "source": [
    "knob_norm_tr = torch.Tensor(scaler_knob.transform(knob_tr)).cuda()\n",
    "knob_norm_te = torch.Tensor(scaler_knob.transform(knob_te)).cuda()\n",
    "\n",
    "Dataset_knob_tr = RocksDBDataset(knob_norm_tr, y_norm_tr)\n",
    "Dataset_knob_te = RocksDBDataset(knob_norm_te, y_norm_te)\n",
    "\n",
    "loader_knob_tr = DataLoader(dataset = Dataset_knob_tr, batch_size = 32, shuffle=True)\n",
    "loader_knob_te = DataLoader(dataset = Dataset_knob_te, batch_size = 32, shuffle=True)"
   ]
  },
  {
   "cell_type": "code",
   "execution_count": null,
   "id": "39e93d96",
   "metadata": {},
   "outputs": [],
   "source": [
    "knob_model = SingleNet(input_dim=knob_norm_tr.shape[1], hidden_dim=16, output_dim=4).cuda()"
   ]
  },
  {
   "cell_type": "code",
   "execution_count": null,
   "id": "8ec51bcc",
   "metadata": {},
   "outputs": [],
   "source": [
    "lr = 0.001\n",
    "epochs = 30\n",
    "losses_tr = []\n",
    "losses_te = []\n",
    "for epoch in range(epochs):\n",
    "    loss_tr = train(knob_model, loader_knob_tr, lr)\n",
    "    loss_te = valid(knob_model, loader_knob_te)\n",
    "    \n",
    "    losses_tr.append(loss_tr)\n",
    "    losses_te.append(loss_te)\n",
    "    \n",
    "    print(f\"[{epoch:02d}/{epochs}] loss_tr: {loss_tr}\\tloss_te:{loss_te:.4f}\")"
   ]
  },
  {
   "cell_type": "code",
   "execution_count": null,
   "id": "3c921e7e",
   "metadata": {
    "scrolled": false
   },
   "outputs": [],
   "source": [
    "pd.DataFrame(scaler_y.inverse_transform(y_norm_te.cpu().detach().numpy()))"
   ]
  },
  {
   "cell_type": "code",
   "execution_count": null,
   "id": "d626e2b3",
   "metadata": {
    "scrolled": false
   },
   "outputs": [],
   "source": [
    "pd.DataFrame(scaler_y.inverse_transform(model(K2vec_te).cpu().detach().numpy()))"
   ]
  },
  {
   "cell_type": "code",
   "execution_count": null,
   "id": "7f8c6404",
   "metadata": {},
   "outputs": [],
   "source": [
    "_30 = scaler_y.inverse_transform(knob_model(knob_norm_te).cpu().detach().numpy()) # 30\n",
    "_30"
   ]
  },
  {
   "cell_type": "code",
   "execution_count": null,
   "id": "2664c6d0",
   "metadata": {},
   "outputs": [],
   "source": [
    "pd.DataFrame(_30)"
   ]
  },
  {
   "cell_type": "code",
   "execution_count": null,
   "id": "28d8b4d5",
   "metadata": {
    "scrolled": false
   },
   "outputs": [],
   "source": [
    "pd.DataFrame(scaler_y.inverse_transform(knob_model(knob_norm_te).cpu().detach().numpy())) # 60"
   ]
  },
  {
   "cell_type": "code",
   "execution_count": null,
   "id": "1cd00179",
   "metadata": {},
   "outputs": [],
   "source": []
  }
 ],
 "metadata": {
  "kernelspec": {
   "display_name": "[py3.7]",
   "language": "python",
   "name": "py3.7"
  },
  "language_info": {
   "codemirror_mode": {
    "name": "ipython",
    "version": 3
   },
   "file_extension": ".py",
   "mimetype": "text/x-python",
   "name": "python",
   "nbconvert_exporter": "python",
   "pygments_lexer": "ipython3",
   "version": "3.7.13"
  }
 },
 "nbformat": 4,
 "nbformat_minor": 5
}
