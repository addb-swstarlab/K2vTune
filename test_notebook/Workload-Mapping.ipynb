{
 "cells": [
  {
   "cell_type": "code",
   "execution_count": null,
   "id": "497a5903",
   "metadata": {},
   "outputs": [],
   "source": [
    "import pandas as pd\n",
    "import numpy as np\n",
    "import os, sys\n",
    "# import matplotlib.pyplot as plt\n",
    "# import seaborn as sns\n",
    "import json\n",
    "sys.path.append('../')\n",
    "from models.utils import rocksdb_knobs_make_dict"
   ]
  },
  {
   "cell_type": "code",
   "execution_count": null,
   "id": "1a34fcc6",
   "metadata": {},
   "outputs": [],
   "source": [
    "PATH_internal = \"../data/internal\"\n",
    "PATH_external = \"../data/external\"\n",
    "PATH_knobs = \"../data/rocksdb_conf\"\n",
    "wk_len = 16"
   ]
  },
  {
   "cell_type": "code",
   "execution_count": null,
   "id": "d3c05bc4",
   "metadata": {
    "scrolled": true
   },
   "outputs": [],
   "source": [
    "knobs = rocksdb_knobs_make_dict(PATH_knobs)\n",
    "knobs = pd.DataFrame(data=knobs['data'].astype(np.float32), columns=knobs['columnlabels'])\n",
    "columns = knobs.columns\n",
    "knobs.head(4)"
   ]
  },
  {
   "cell_type": "code",
   "execution_count": null,
   "id": "d362eecc",
   "metadata": {
    "scrolled": true
   },
   "outputs": [],
   "source": [
    "wk_len = 16\n",
    "internal_dict = {}\n",
    "\n",
    "pruned_im = pd.read_csv(os.path.join(PATH_internal, 'internal_ensemble_pruned_tmp.csv'), index_col=0)\n",
    "for wk in range(wk_len):\n",
    "    im = pd.read_csv(os.path.join(PATH_internal, f'internal_results_{wk}.csv'), index_col=0)\n",
    "    internal_dict[wk] = im[pruned_im.columns]\n",
    "#     break\n",
    "internal_dict[0].head(4)"
   ]
  },
  {
   "cell_type": "code",
   "execution_count": null,
   "id": "88bc584d",
   "metadata": {},
   "outputs": [],
   "source": [
    "external_dict = {}\n",
    "for wk in range(wk_len):\n",
    "    ex = pd.read_csv(os.path.join(PATH_external, f'external_results_{wk}.csv'), index_col=0)\n",
    "    external_dict[wk] = ex\n",
    "    break\n",
    "external_dict[0].head(4)"
   ]
  },
  {
   "cell_type": "code",
   "execution_count": null,
   "id": "56c79cc5",
   "metadata": {},
   "outputs": [],
   "source": [
    "from scipy.spatial import distance\n",
    "from sklearn.preprocessing import MinMaxScaler, StandardScaler"
   ]
  },
  {
   "cell_type": "code",
   "execution_count": null,
   "id": "902ebbba",
   "metadata": {},
   "outputs": [],
   "source": [
    "def euclidean_distance(a, b):\n",
    "    res = a - b\n",
    "    res = res ** 2\n",
    "    res = np.sqrt(res)\n",
    "#     return res\n",
    "    return np.average(res)"
   ]
  },
  {
   "cell_type": "code",
   "execution_count": null,
   "id": "1959d270",
   "metadata": {},
   "outputs": [],
   "source": [
    "scaler = MinMaxScaler().fit(pd.concat(internal_dict))"
   ]
  },
  {
   "cell_type": "code",
   "execution_count": null,
   "id": "81e61345",
   "metadata": {},
   "outputs": [],
   "source": [
    "def get_euclidean_distance(wk_num, size):\n",
    "    wk = []\n",
    "    for im_d in internal_dict:\n",
    "        wk.append(scaler.transform(internal_dict[im_d].iloc[:size, :]))\n",
    "        \n",
    "    big = 100\n",
    "    for i in range(16):\n",
    "        ed = euclidean_distance(wk[wk_num], wk[i])\n",
    "        if ed<big and wk_num != i: \n",
    "            big=ed\n",
    "            idx = i\n",
    "        print(f'{i:4}th   {ed}')\n",
    "    print('best similar workload is ',idx, 'th')"
   ]
  },
  {
   "cell_type": "code",
   "execution_count": null,
   "id": "60d59778",
   "metadata": {
    "scrolled": true
   },
   "outputs": [],
   "source": [
    "get_euclidean_distance(0, 10)"
   ]
  },
  {
   "cell_type": "code",
   "execution_count": null,
   "id": "850d3f34",
   "metadata": {
    "scrolled": true
   },
   "outputs": [],
   "source": [
    "get_euclidean_distance(0, 50)"
   ]
  },
  {
   "cell_type": "code",
   "execution_count": null,
   "id": "1df85712",
   "metadata": {},
   "outputs": [],
   "source": [
    "get_euclidean_distance(0, 100)"
   ]
  },
  {
   "cell_type": "code",
   "execution_count": null,
   "id": "96d808c6",
   "metadata": {
    "scrolled": true
   },
   "outputs": [],
   "source": [
    "get_euclidean_distance(0, 1000)"
   ]
  }
 ],
 "metadata": {
  "kernelspec": {
   "display_name": "[py3.7]",
   "language": "python",
   "name": "py3.7"
  },
  "language_info": {
   "codemirror_mode": {
    "name": "ipython",
    "version": 3
   },
   "file_extension": ".py",
   "mimetype": "text/x-python",
   "name": "python",
   "nbconvert_exporter": "python",
   "pygments_lexer": "ipython3",
   "version": "3.7.11"
  }
 },
 "nbformat": 4,
 "nbformat_minor": 5
}
