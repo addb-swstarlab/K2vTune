{
 "cells": [
  {
   "cell_type": "code",
   "execution_count": 30,
   "id": "99e479cd",
   "metadata": {},
   "outputs": [],
   "source": [
    "import matplotlib.pyplot as plt\n",
    "import pandas as pd\n",
    "import numpy as np"
   ]
  },
  {
   "cell_type": "code",
   "execution_count": 5,
   "id": "91664995",
   "metadata": {},
   "outputs": [],
   "source": [
    "default = pd.DataFrame(data=[[60.8, 5.06, 7.9, 148.21], [208.7, 3.44, 11.6, 288.2], \n",
    "                             [319.4, 3.21, 12.1, 361.19]], columns=['TIME', 'RATE', 'WAF', 'SA'])\n",
    "DBA = pd.DataFrame(data=[[11.8, 26.15, 5.9, 46.22], [24.2, 29.71, 5.6, 89.89], \n",
    "                             [36.8, 27.85, 6.5, 112.63]], columns=['TIME', 'RATE', 'WAF', 'SA'])\n",
    "facebook = pd.DataFrame(data=[[43.8, 7.03, 7.9, 148.21], [101.8, 7.05, 8.8, 288.2], \n",
    "                             [154.5, 6.64, 10, 361.19]], columns=['TIME', 'RATE', 'WAF', 'SA'])\n",
    "ours = pd.DataFrame(data=[[7.6, 40.6, 5.9, 14.77], [25.9, 27.49, 4.1, 14.04], \n",
    "                             [24.9, 41.27, 5.5, 33.8]], columns=['TIME', 'RATE', 'WAF', 'SA'])\n"
   ]
  },
  {
   "cell_type": "code",
   "execution_count": 33,
   "id": "70b747df",
   "metadata": {},
   "outputs": [
    {
     "data": {
      "text/html": [
       "<div>\n",
       "<style scoped>\n",
       "    .dataframe tbody tr th:only-of-type {\n",
       "        vertical-align: middle;\n",
       "    }\n",
       "\n",
       "    .dataframe tbody tr th {\n",
       "        vertical-align: top;\n",
       "    }\n",
       "\n",
       "    .dataframe thead th {\n",
       "        text-align: right;\n",
       "    }\n",
       "</style>\n",
       "<table border=\"1\" class=\"dataframe\">\n",
       "  <thead>\n",
       "    <tr style=\"text-align: right;\">\n",
       "      <th></th>\n",
       "      <th>TIME</th>\n",
       "      <th>RATE</th>\n",
       "      <th>WAF</th>\n",
       "      <th>SA</th>\n",
       "    </tr>\n",
       "  </thead>\n",
       "  <tbody>\n",
       "    <tr>\n",
       "      <th>0</th>\n",
       "      <td>2.079442</td>\n",
       "      <td>-2.082402</td>\n",
       "      <td>0.291910</td>\n",
       "      <td>2.306032</td>\n",
       "    </tr>\n",
       "    <tr>\n",
       "      <th>1</th>\n",
       "      <td>2.086655</td>\n",
       "      <td>-2.078351</td>\n",
       "      <td>1.040018</td>\n",
       "      <td>3.021744</td>\n",
       "    </tr>\n",
       "    <tr>\n",
       "      <th>2</th>\n",
       "      <td>2.551576</td>\n",
       "      <td>-2.553865</td>\n",
       "      <td>0.788457</td>\n",
       "      <td>2.368943</td>\n",
       "    </tr>\n",
       "  </tbody>\n",
       "</table>\n",
       "</div>"
      ],
      "text/plain": [
       "       TIME      RATE       WAF        SA\n",
       "0  2.079442 -2.082402  0.291910  2.306032\n",
       "1  2.086655 -2.078351  1.040018  3.021744\n",
       "2  2.551576 -2.553865  0.788457  2.368943"
      ]
     },
     "execution_count": 33,
     "metadata": {},
     "output_type": "execute_result"
    }
   ],
   "source": []
  },
  {
   "cell_type": "code",
   "execution_count": 24,
   "id": "18aec2e5",
   "metadata": {},
   "outputs": [
    {
     "data": {
      "text/plain": [
       "<AxesSubplot:>"
      ]
     },
     "execution_count": 24,
     "metadata": {},
     "output_type": "execute_result"
    },
    {
     "data": {
      "image/png": "[encoded data removed]",
      "text/plain": [
       "<Figure size 432x288 with 1 Axes>"
      ]
     },
     "metadata": {
      "needs_background": "light"
     },
     "output_type": "display_data"
    }
   ],
   "source": [
    "pd.concat((default['TIME'], facebook['TIME'], DBA['TIME'], ours['TIME']), axis=1).plot(kind='bar')"
   ]
  },
  {
   "cell_type": "code",
   "execution_count": 28,
   "id": "d3eb9dff",
   "metadata": {},
   "outputs": [
    {
     "data": {
      "text/plain": [
       "<AxesSubplot:>"
      ]
     },
     "execution_count": 28,
     "metadata": {},
     "output_type": "execute_result"
    },
    {
     "data": {
      "image/png": "[encoded data removed]",
      "text/plain": [
       "<Figure size 432x288 with 1 Axes>"
      ]
     },
     "metadata": {
      "needs_background": "light"
     },
     "output_type": "display_data"
    }
   ],
   "source": [
    "pd.concat((default.T[0], facebook.T[0], DBA.T[0], ours.T[0]), axis=1).plot(kind='bar')"
   ]
  }
 ],
 "metadata": {
  "kernelspec": {
   "display_name": "[py3.7]",
   "language": "python",
   "name": "py3.7"
  },
  "language_info": {
   "codemirror_mode": {
    "name": "ipython",
    "version": 3
   },
   "file_extension": ".py",
   "mimetype": "text/x-python",
   "name": "python",
   "nbconvert_exporter": "python",
   "pygments_lexer": "ipython3",
   "version": "3.7.11"
  }
 },
 "nbformat": 4,
 "nbformat_minor": 5
}
